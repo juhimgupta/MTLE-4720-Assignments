{
 "cells": [
  {
   "cell_type": "markdown",
   "metadata": {},
   "source": [
    "# Deriving the Accumulation of a Species in a Diffusive Problem"
   ]
  },
  {
   "cell_type": "markdown",
   "metadata": {},
   "source": [
    "The __purpose__ of the following code is to derive an equation for the __accumulation__ of a species as a result of __diffusion.__ In other words, we are aiming to get an equation that will tell us how much of a substance over time (accumulation) has entered an area, as the result of movement of a species due to random motion of defects and chemical forces (diffusion). This code is intended for those who have learned the basics of calculus (theory behind derivatives) and those that wish to learn how movement of substances across any kind of medium is modeled mathematically. "
   ]
  },
  {
   "cell_type": "markdown",
   "metadata": {},
   "source": [
    "Let's first start by importing *sympy,* and extremely helpful tool to assist with using symbols, defining functions, and taking derivatives (in our case). "
   ]
  },
  {
   "cell_type": "code",
   "execution_count": 26,
   "metadata": {},
   "outputs": [],
   "source": [
    "import sympy as sp"
   ]
  },
  {
   "cell_type": "markdown",
   "metadata": {},
   "source": [
    "Next, lets define the following variables. *Ga* and *Gb* are constants that depend on the melting temperature and heat of fusion, *R* is the gas constant, *T* is the absolute temperature, *Xb* is the concentration of a species with respect to space *x* (the independent variable for space), and *M* is the diffusivity constant. To define varibales, we use *sp.symbols.* "
   ]
  },
  {
   "cell_type": "code",
   "execution_count": 27,
   "metadata": {},
   "outputs": [],
   "source": [
    "Ga, Gb, Xb, R, T, M = sp.symbols('Ga Gb Xb R T M')"
   ]
  },
  {
   "cell_type": "markdown",
   "metadata": {},
   "source": [
    "Next, lets write Xb as a function of x. We can use *sp.Function* for this. In doing so, Python will recognize that Xb is a function of x, so we can take derivatives with respect to space easily. It is important to note that the concentration can also be based on how much substance there is in the *y* direction or the *z* direction. For the purpose of making this explanation simpler, we can assume that the concentration only depends on *x.*"
   ]
  },
  {
   "cell_type": "code",
   "execution_count": 28,
   "metadata": {},
   "outputs": [],
   "source": [
    "from sympy.abc import x\n",
    "Xb = sp.Function('Xb')(x)"
   ]
  },
  {
   "cell_type": "markdown",
   "metadata": {},
   "source": [
    "Now, let's find the chemical potential. We start with the Gibbs Free Energy Equation which is written below as the first argument in the *sp.diff* function. This equation is the energetic description of a chemical system. This energy stems from the atoms in the system that are in the unmixed state and the energy changes associated with diffusion. Due to some base assumptions being made, the Gibbs Free Energy Equation is also the ideal solution model. "
   ]
  },
  {
   "cell_type": "markdown",
   "metadata": {},
   "source": [
    "The chemical potential represents how the energy of atoms can change depending on their arrangement with respect to eachother. In other words, it shows how the total energy of a system changes when you add or take away species (or change species concentration) from the whole system. To find the chemical potential from the GibBs Free Energy Equation, we can take the partial derivative with respect to moles. Xb is our mole fraction with respect to space so we take the Gibbs Free Energy Equation and differentiate it with respect to Xb. "
   ]
  },
  {
   "cell_type": "code",
   "execution_count": 29,
   "metadata": {},
   "outputs": [
    {
     "data": {
      "text/latex": [
       "$\\displaystyle - Ga + Gb + R T \\left(- \\log{\\left(1 - \\operatorname{Xb}{\\left(x \\right)} \\right)} + \\log{\\left(\\operatorname{Xb}{\\left(x \\right)} \\right)}\\right)$"
      ],
      "text/plain": [
       "-Ga + Gb + R*T*(-log(1 - Xb(x)) + log(Xb(x)))"
      ]
     },
     "execution_count": 29,
     "metadata": {},
     "output_type": "execute_result"
    }
   ],
   "source": [
    "chempotential = sp.diff((1 - Xb)*Ga + Xb*Gb + R*T*(Xb*sp.log(Xb) + (1 - Xb)*(sp.log(1 - Xb))), Xb)\n",
    "chempotential"
   ]
  },
  {
   "cell_type": "markdown",
   "metadata": {},
   "source": [
    "The next equation we need to calculate the accumulation of a species is the flux. In most cases, the flux is the divergence of the chemical potential multiplied by a diffusivity constant *M.* It is important to note however, that this is only an \"ok\" assumption to make in dilute conditions. Further explanation of how these assumptions and time can be accounted for is under \"More Information.\" "
   ]
  },
  {
   "cell_type": "markdown",
   "metadata": {},
   "source": [
    "Back to getting the flux equation, we need to get the divergence of the chemical potential. This means to dot product a gradient field with the vector field generated for the chemical potential. Since, the concentration of the species is only with respect to *x,* we can just get the derivative of the chemical potential with respect that space. If there were more space dimensions, we would have partial derivatives. "
   ]
  },
  {
   "cell_type": "code",
   "execution_count": 30,
   "metadata": {},
   "outputs": [
    {
     "data": {
      "text/latex": [
       "$\\displaystyle - M R T \\left(\\frac{\\frac{d}{d x} \\operatorname{Xb}{\\left(x \\right)}}{\\operatorname{Xb}{\\left(x \\right)}} + \\frac{\\frac{d}{d x} \\operatorname{Xb}{\\left(x \\right)}}{1 - \\operatorname{Xb}{\\left(x \\right)}}\\right)$"
      ],
      "text/plain": [
       "-M*R*T*(Derivative(Xb(x), x)/Xb(x) + Derivative(Xb(x), x)/(1 - Xb(x)))"
      ]
     },
     "execution_count": 30,
     "metadata": {},
     "output_type": "execute_result"
    }
   ],
   "source": [
    "flux = -M * sp.diff(chempotential,x)\n",
    "flux"
   ]
  },
  {
   "cell_type": "markdown",
   "metadata": {},
   "source": [
    "Finally, to find the accumulation of a species, we take the divergence of the flux using the same principles described earlier. "
   ]
  },
  {
   "cell_type": "code",
   "execution_count": 31,
   "metadata": {},
   "outputs": [
    {
     "data": {
      "text/latex": [
       "$\\displaystyle M R T \\left(\\frac{\\frac{d^{2}}{d x^{2}} \\operatorname{Xb}{\\left(x \\right)}}{\\operatorname{Xb}{\\left(x \\right)}} - \\frac{\\left(\\frac{d}{d x} \\operatorname{Xb}{\\left(x \\right)}\\right)^{2}}{\\operatorname{Xb}^{2}{\\left(x \\right)}} + \\frac{\\frac{d^{2}}{d x^{2}} \\operatorname{Xb}{\\left(x \\right)}}{1 - \\operatorname{Xb}{\\left(x \\right)}} + \\frac{\\left(\\frac{d}{d x} \\operatorname{Xb}{\\left(x \\right)}\\right)^{2}}{\\left(1 - \\operatorname{Xb}{\\left(x \\right)}\\right)^{2}}\\right)$"
      ],
      "text/plain": [
       "M*R*T*(Derivative(Xb(x), (x, 2))/Xb(x) - Derivative(Xb(x), x)**2/Xb(x)**2 + Derivative(Xb(x), (x, 2))/(1 - Xb(x)) + Derivative(Xb(x), x)**2/(1 - Xb(x))**2)"
      ]
     },
     "execution_count": 31,
     "metadata": {},
     "output_type": "execute_result"
    }
   ],
   "source": [
    "accumulation = -sp.diff(flux,x)\n",
    "accumulation"
   ]
  },
  {
   "cell_type": "markdown",
   "metadata": {},
   "source": [
    "## More Information"
   ]
  },
  {
   "cell_type": "markdown",
   "metadata": {},
   "source": [
    "The diffusion coefficient is meant to represent proportionality factor in the diffusion equation when a dot product is taken between the nabla and the chemical potential to apply a gradient to the chemical potential. In other words, this coefficient is meant to represent the proportionality factor in the equation representing how concentration changes over time over area. In the equation below, we use Fick's second law to express when the diffusion constant is not constant but depends on space or concentration. "
   ]
  },
  {
   "cell_type": "markdown",
   "metadata": {},
   "source": [
    "dXb/dt = $\\nabla$ * (M$\\nabla$Xb)"
   ]
  },
  {
   "cell_type": "markdown",
   "metadata": {},
   "source": [
    "Therefore, the diffusivity coefficient *M* is proportional to the accumulation, if we do not make the common assumptions of the coefficent. We can write the following where *A* is accumulation for a more accurate means of representing to diffusivity as a value that is not a constant. "
   ]
  },
  {
   "cell_type": "markdown",
   "metadata": {},
   "source": [
    "M = A * ((1 - Xb)Xb) /(RT) "
   ]
  }
 ],
 "metadata": {
  "kernelspec": {
   "display_name": "Python 3",
   "language": "python",
   "name": "python3"
  },
  "language_info": {
   "codemirror_mode": {
    "name": "ipython",
    "version": 3
   },
   "file_extension": ".py",
   "mimetype": "text/x-python",
   "name": "python",
   "nbconvert_exporter": "python",
   "pygments_lexer": "ipython3",
   "version": "3.7.6"
  }
 },
 "nbformat": 4,
 "nbformat_minor": 4
}
