{
 "cells": [
  {
   "cell_type": "markdown",
   "metadata": {},
   "source": [
    "#  Analytical and Numerical Calculation of Derivatives Using Taylor Series"
   ]
  },
  {
   "cell_type": "markdown",
   "metadata": {},
   "source": [
    "## Goal of the Assignment\n",
    "The goal of the assignment is to compare the analytical first and second derivatives of the function f(x) = x^8, analytically calculated using calculus to the numerically derived first and second derivatives which is outlined in the code below that uses Taylor Series. This code is intended for those with a background in Calculus and are interested in how to approximate derivatives of functions (to perhaps look at rates of a situation) in python. "
   ]
  },
  {
   "cell_type": "markdown",
   "metadata": {},
   "source": [
    "## DIY Excersises"
   ]
  },
  {
   "cell_type": "markdown",
   "metadata": {},
   "source": [
    "### Infinite Sequeces "
   ]
  },
  {
   "cell_type": "code",
   "execution_count": 1,
   "metadata": {},
   "outputs": [],
   "source": [
    "import sympy as sp\n",
    "x, y, z, t, a = sp.symbols('x y z t a')\n",
    "k, m, n = sp.symbols('k m n', integer=True)\n",
    "f, g, h = sp.symbols('f g h', cls=sp.Function)\n",
    "sp.var('a1:6')\n",
    "sp.init_printing()"
   ]
  },
  {
   "cell_type": "code",
   "execution_count": 2,
   "metadata": {},
   "outputs": [
    {
     "data": {
      "image/png": "[encoded data removed]",
      "text/latex": [
       "$\\displaystyle \\left[ 0, \\  1, \\  4, \\  9, \\  16, \\  25\\right]$"
      ],
      "text/plain": [
       "[0, 1, 4, 9, 16, 25]"
      ]
     },
     "execution_count": 2,
     "metadata": {},
     "output_type": "execute_result"
    }
   ],
   "source": [
    "a1 = sp.SeqFormula(n**2, (n,0,5))\n",
    "list(a1)"
   ]
  },
  {
   "cell_type": "code",
   "execution_count": 3,
   "metadata": {},
   "outputs": [
    {
     "data": {
      "image/png": "[encoded data removed]",
      "text/latex": [
       "$\\displaystyle \\infty$"
      ],
      "text/plain": [
       "∞"
      ]
     },
     "execution_count": 3,
     "metadata": {},
     "output_type": "execute_result"
    }
   ],
   "source": [
    "sp.limit_seq(a1.formula, n)"
   ]
  },
  {
   "cell_type": "code",
   "execution_count": 4,
   "metadata": {},
   "outputs": [
    {
     "data": {
      "image/png": "[encoded data removed]",
      "text/latex": [
       "$\\displaystyle \\left[ 1, \\  \\frac{1}{3}, \\  \\frac{1}{5}, \\  \\frac{1}{7}, \\  \\frac{1}{9}, \\  \\frac{1}{11}\\right]$"
      ],
      "text/plain": [
       "[1, 1/3, 1/5, 1/7, 1/9, 1/11]"
      ]
     },
     "execution_count": 4,
     "metadata": {},
     "output_type": "execute_result"
    }
   ],
   "source": [
    "a2 = sp.SeqFormula(1/(2*n + 1) , (n,0,5))\n",
    "list(a2)"
   ]
  },
  {
   "cell_type": "code",
   "execution_count": 5,
   "metadata": {},
   "outputs": [
    {
     "data": {
      "image/png": "[encoded data removed]",
      "text/latex": [
       "$\\displaystyle 0$"
      ],
      "text/plain": [
       "0"
      ]
     },
     "execution_count": 5,
     "metadata": {},
     "output_type": "execute_result"
    }
   ],
   "source": [
    "sp.limit_seq(a2.formula, n)"
   ]
  },
  {
   "cell_type": "markdown",
   "metadata": {},
   "source": [
    "## Computing the Taylor Series Symbolically "
   ]
  },
  {
   "cell_type": "markdown",
   "metadata": {},
   "source": [
    "For finding taylor series expressions for a generic point, we will be using \"neighbors\" of the point we are trying to look at. These neighbors are separated by a specific distance from the point that we are looking at. Let's call this distance *h.* Essentially, we will be expanding the taylor series around the point and then examine the relationship between that function and its derivative quantities at the point we are looking at and its \"neighbors\" which are separated by *h.*\n",
    "\n",
    "In order to calculate the taylor series symbolically, we can use x and c as symbols in our equation and use f as representation of a general function. We can use *.series* to create the series we want with 3 terms and an initial value of x that is equal to c. \n"
   ]
  },
  {
   "cell_type": "code",
   "execution_count": 58,
   "metadata": {},
   "outputs": [
    {
     "data": {
      "text/latex": [
       "$\\displaystyle f{\\left(c \\right)} + \\left(- c + x\\right) \\left. \\frac{d}{d \\xi_{1}} f{\\left(\\xi_{1} \\right)} \\right|_{\\substack{ \\xi_{1}=c }} + \\frac{\\left(- c + x\\right)^{2} \\left. \\frac{d^{2}}{d \\xi_{1}^{2}} f{\\left(\\xi_{1} \\right)} \\right|_{\\substack{ \\xi_{1}=c }}}{2} + O\\left(\\left(- c + x\\right)^{3}; x\\rightarrow c\\right)$"
      ],
      "text/plain": [
       "                                              ⎛  2        ⎞│                  \n",
       "                                            2 ⎜ d         ⎟│                  \n",
       "                                    (-c + x) ⋅⎜────(f(ξ₁))⎟│                  \n",
       "                                              ⎜   2       ⎟│                  \n",
       "                ⎛ d        ⎞│                 ⎝dξ₁        ⎠│ξ₁=c    ⎛        3\n",
       "f(c) + (-c + x)⋅⎜───(f(ξ₁))⎟│     + ──────────────────────────── + O⎝(-c + x) \n",
       "                ⎝dξ₁       ⎠│ξ₁=c                2                            \n",
       "\n",
       "        \n",
       "        \n",
       "        \n",
       "        \n",
       "       ⎞\n",
       "; x → c⎠\n",
       "        "
      ]
     },
     "execution_count": 58,
     "metadata": {},
     "output_type": "execute_result"
    }
   ],
   "source": [
    "from sympy import init_printing, symbols, Function\n",
    "init_printing()\n",
    "\n",
    "x, c = symbols(\"x,c\")\n",
    "f = Function(\"f\")\n",
    "\n",
    "f(x).series(x, x0=c, n=3)"
   ]
  },
  {
   "cell_type": "markdown",
   "metadata": {},
   "source": [
    "Here, we can add *h* as a symbol to describe the \"x-distance\" between a point we want to expand around, *c,* and its neighbor. We use the *.subs* to replace occurences of *x* with *c+h* or *c-h* so that we can look at *c's* neighbors to estimate the derivative at *c.* The equation shown below the line of code (also below) gives the estimation of *f(c+h).* While the *taylorExpansionMinus* gives the estimation of *f(c-h).* "
   ]
  },
  {
   "cell_type": "code",
   "execution_count": 85,
   "metadata": {},
   "outputs": [
    {
     "data": {
      "text/latex": [
       "$\\displaystyle \\frac{h^{2} \\left. \\frac{d^{2}}{d \\xi_{1}^{2}} f{\\left(\\xi_{1} \\right)} \\right|_{\\substack{ \\xi_{1}=c }}}{2} + h \\left. \\frac{d}{d \\xi_{1}} f{\\left(\\xi_{1} \\right)} \\right|_{\\substack{ \\xi_{1}=c }} + f{\\left(c \\right)}$"
      ],
      "text/plain": [
       "   ⎛  2        ⎞│                                 \n",
       " 2 ⎜ d         ⎟│                                 \n",
       "h ⋅⎜────(f(ξ₁))⎟│                                 \n",
       "   ⎜   2       ⎟│                                 \n",
       "   ⎝dξ₁        ⎠│ξ₁=c     ⎛ d        ⎞│           \n",
       "───────────────────── + h⋅⎜───(f(ξ₁))⎟│     + f(c)\n",
       "          2               ⎝dξ₁       ⎠│ξ₁=c       "
      ]
     },
     "execution_count": 85,
     "metadata": {},
     "output_type": "execute_result"
    }
   ],
   "source": [
    "x, h, c = sp.symbols(\"x,h,c\")\n",
    "f = sp.Function(\"f\")\n",
    "\n",
    "# the .subs() method replaces occurences of 'x' with somethine else\n",
    "taylorExpansionPlus = f(x).series(x, x0=c, n=3).removeO().subs(x,c+h)\n",
    "taylorExpansionMinus = f(x).series(x, x0=c, n=3).removeO().subs(x,c-h)\n",
    "taylorExpansionPlus"
   ]
  },
  {
   "cell_type": "markdown",
   "metadata": {},
   "source": [
    "### Derivative Estimation"
   ]
  },
  {
   "cell_type": "markdown",
   "metadata": {},
   "source": [
    "We can now calculate the __1st derivative.__ In sympy, the functions are set up to equal 0. We can essentially solver for the derivative shown below and get the estimation formula for the 1st derivative at point *c.* "
   ]
  },
  {
   "cell_type": "code",
   "execution_count": 15,
   "metadata": {},
   "outputs": [
    {
     "data": {
      "text/latex": [
       "$\\displaystyle - 2 h \\left. \\frac{d}{d \\xi_{1}} f{\\left(\\xi_{1} \\right)} \\right|_{\\substack{ \\xi_{1}=c }} - f{\\left(c - h \\right)} + f{\\left(c + h \\right)}$"
      ],
      "text/plain": [
       "      ⎛ d        ⎞│                          \n",
       "- 2⋅h⋅⎜───(f(ξ₁))⎟│     - f(c - h) + f(c + h)\n",
       "      ⎝dξ₁       ⎠│ξ₁=c                      "
      ]
     },
     "execution_count": 15,
     "metadata": {},
     "output_type": "execute_result"
    }
   ],
   "source": [
    "(taylorExpansionMinus-f(c-h))-(taylorExpansionPlus-f(c+h))"
   ]
  },
  {
   "cell_type": "markdown",
   "metadata": {},
   "source": [
    "We do the same thing for the __2nd derivative!__"
   ]
  },
  {
   "cell_type": "code",
   "execution_count": 16,
   "metadata": {},
   "outputs": [
    {
     "data": {
      "text/latex": [
       "$\\displaystyle h^{2} \\left. \\frac{d^{2}}{d \\xi_{1}^{2}} f{\\left(\\xi_{1} \\right)} \\right|_{\\substack{ \\xi_{1}=c }} + 2 f{\\left(c \\right)} - f{\\left(c - h \\right)} - f{\\left(c + h \\right)}$"
      ],
      "text/plain": [
       "   ⎛  2        ⎞│                                   \n",
       " 2 ⎜ d         ⎟│                                   \n",
       "h ⋅⎜────(f(ξ₁))⎟│     + 2⋅f(c) - f(c - h) - f(c + h)\n",
       "   ⎜   2       ⎟│                                   \n",
       "   ⎝dξ₁        ⎠│ξ₁=c                               "
      ]
     },
     "execution_count": 16,
     "metadata": {},
     "output_type": "execute_result"
    }
   ],
   "source": [
    "(taylorExpansionMinus-f(c-h))+(taylorExpansionPlus-f(c+h))"
   ]
  },
  {
   "cell_type": "markdown",
   "metadata": {},
   "source": [
    "## Numerical Derivative Computation "
   ]
  },
  {
   "cell_type": "markdown",
   "metadata": {},
   "source": [
    "To demonstrate numerical and analytical calculations, we will use the function f(x) = x^8. First, we can set up a array of 10 x-values beginning from 0 and ending at 1. We will plug these x-values into the functon *f.*"
   ]
  },
  {
   "cell_type": "code",
   "execution_count": 46,
   "metadata": {},
   "outputs": [],
   "source": [
    "import numpy as np"
   ]
  },
  {
   "cell_type": "code",
   "execution_count": 47,
   "metadata": {},
   "outputs": [
    {
     "data": {
      "text/plain": [
       "array([0.        , 0.11111111, 0.22222222, 0.33333333, 0.44444444,\n",
       "       0.55555556, 0.66666667, 0.77777778, 0.88888889, 1.        ])"
      ]
     },
     "execution_count": 47,
     "metadata": {},
     "output_type": "execute_result"
    }
   ],
   "source": [
    "xvalues = np.linspace(0,1,10) \n",
    "xvalues"
   ]
  },
  {
   "cell_type": "markdown",
   "metadata": {},
   "source": [
    "Here, we create an array of 0s that is of the same dimenions as the *xvalues* array that will store the final values once the function *f* is applied to the *xvalues.* "
   ]
  },
  {
   "cell_type": "code",
   "execution_count": 48,
   "metadata": {},
   "outputs": [
    {
     "data": {
      "text/plain": [
       "array([0., 0., 0., 0., 0., 0., 0., 0., 0., 0.])"
      ]
     },
     "execution_count": 48,
     "metadata": {},
     "output_type": "execute_result"
    }
   ],
   "source": [
    "yvalues = np.zeros_like(xvalues) #creating an array of 10 zeros to store the yvalues in when the function f(x) = X^8 is \n",
    "                                    #applied to it\n",
    "yvalues"
   ]
  },
  {
   "cell_type": "markdown",
   "metadata": {},
   "source": [
    "Here, we create a for loop to apply the *f(x) = x^8* function to the *xvalues* and store them in *yvalues,* replacing the 0s. "
   ]
  },
  {
   "cell_type": "code",
   "execution_count": 49,
   "metadata": {},
   "outputs": [],
   "source": [
    "for i in range(len(xvalues)):  #calculates new yvalues with the function f(x) = x^8\n",
    "    yvalues[i] = xvalues[i]**8"
   ]
  },
  {
   "cell_type": "code",
   "execution_count": 52,
   "metadata": {},
   "outputs": [
    {
     "data": {
      "text/plain": [
       "array([0.00000000e+00, 2.32305731e-08, 5.94702672e-06, 1.52415790e-04,\n",
       "       1.52243884e-03, 9.07444263e-03, 3.90184423e-02, 1.33919631e-01,\n",
       "       3.89744343e-01, 1.00000000e+00])"
      ]
     },
     "execution_count": 52,
     "metadata": {},
     "output_type": "execute_result"
    }
   ],
   "source": [
    "yvalues"
   ]
  },
  {
   "cell_type": "markdown",
   "metadata": {},
   "source": [
    "Next we can form an array *yapprox_derivative1* to store the first derivative estimations. We create a for loop and use the 1st derivative formula (shown above in \"Calculating the Taylor Series Symbolically\") to get the estimations for the first derivatives of the function and store it in *yapprox_derivative1.*"
   ]
  },
  {
   "cell_type": "code",
   "execution_count": 87,
   "metadata": {},
   "outputs": [],
   "source": [
    "yapprox_derivative1 = np.zeros_like(xvalues)"
   ]
  },
  {
   "cell_type": "code",
   "execution_count": 88,
   "metadata": {},
   "outputs": [],
   "source": [
    "for i in range(1,len(xvalues)-1,1): \n",
    "    yapprox_derivative1[i] = ((yvalues[i+1] - yvalues[i-1])/(2*(xvalues[i+1] - xvalues[i-1])))"
   ]
  },
  {
   "cell_type": "code",
   "execution_count": 89,
   "metadata": {},
   "outputs": [
    {
     "data": {
      "text/plain": [
       "array([0.00000000e+00, 1.33808101e-05, 3.42883259e-04, 3.41210658e-03,\n",
       "       2.00745604e-02, 8.43660078e-02, 2.80901674e-01, 7.89133277e-01,\n",
       "       1.94868083e+00, 0.00000000e+00])"
      ]
     },
     "execution_count": 89,
     "metadata": {},
     "output_type": "execute_result"
    }
   ],
   "source": [
    "yapprox_derivative1"
   ]
  },
  {
   "cell_type": "markdown",
   "metadata": {},
   "source": [
    "Next we can form an array *yapprox_derivative2* to store the second derivative estimations. We create a for loop and use the 2nd derivative formula (shown above in \"Calculating the Taylor Series Symbolically\") to get the estimations for the second derivatives of the function and store it in *yapprox_derivative2.*"
   ]
  },
  {
   "cell_type": "code",
   "execution_count": 90,
   "metadata": {},
   "outputs": [],
   "source": [
    "yapprox_derivative2 =  np.zeros_like(xvalues)"
   ]
  },
  {
   "cell_type": "code",
   "execution_count": 91,
   "metadata": {},
   "outputs": [],
   "source": [
    "for i in range(1,len(xvalues)-1,1):\n",
    "    yapprox_derivative2[i] = ((yvalues[i+1] - 2*yvalues[i] + yvalues[i-1])/(xvalues[i+1] - xvalues[i-1])**2)"
   ]
  },
  {
   "cell_type": "code",
   "execution_count": 92,
   "metadata": {},
   "outputs": [
    {
     "data": {
      "text/plain": [
       "array([0.00000000e+00, 1.19486453e-04, 2.84603559e-03, 2.47769743e-02,\n",
       "       1.25185110e-01, 4.53437917e-01, 1.31538308e+00, 3.25870134e+00,\n",
       "       7.17722663e+00, 0.00000000e+00])"
      ]
     },
     "execution_count": 92,
     "metadata": {},
     "output_type": "execute_result"
    }
   ],
   "source": [
    "yapprox_derivative2"
   ]
  },
  {
   "cell_type": "markdown",
   "metadata": {},
   "source": [
    "## Analytical Derivative Computation"
   ]
  },
  {
   "cell_type": "markdown",
   "metadata": {},
   "source": [
    "Now that we have numerically calculated derivatives, we can analytically calculate them by using calculus to take the derivative of *f(x) = x^8.* We can use the same *xvalues* to plug into the new \"true\" derivative equations. "
   ]
  },
  {
   "cell_type": "markdown",
   "metadata": {},
   "source": [
    "First, we create *yderivativeone* to store the y-values when *xvalues* is plugged into the first derivative of *f(x) = x^8.* The first derivative function is *f'(x) = 8*x^7.*"
   ]
  },
  {
   "cell_type": "code",
   "execution_count": 61,
   "metadata": {},
   "outputs": [
    {
     "data": {
      "text/plain": [
       "array([0., 0., 0., 0., 0., 0., 0., 0., 0., 0.])"
      ]
     },
     "execution_count": 61,
     "metadata": {},
     "output_type": "execute_result"
    }
   ],
   "source": [
    "yderivativeone = np.zeros_like(xvalues)\n",
    "yderivativeone"
   ]
  },
  {
   "cell_type": "code",
   "execution_count": 62,
   "metadata": {},
   "outputs": [],
   "source": [
    "for i in range(1, len(xvalues)-1,1):\n",
    "    yderivativeone[i] = (8*xvalues[i])**7"
   ]
  },
  {
   "cell_type": "code",
   "execution_count": 63,
   "metadata": {},
   "outputs": [
    {
     "data": {
      "text/plain": [
       "array([0.00000000e+00, 4.38462386e-01, 5.61231854e+01, 9.58917238e+02,\n",
       "       7.18376773e+03, 3.42548739e+04, 1.22741406e+05, 3.61092629e+05,\n",
       "       9.19522270e+05, 0.00000000e+00])"
      ]
     },
     "execution_count": 63,
     "metadata": {},
     "output_type": "execute_result"
    }
   ],
   "source": [
    "yderivativeone"
   ]
  },
  {
   "cell_type": "markdown",
   "metadata": {},
   "source": [
    "Next, we create *yderivativetwo* to store the y-values when *xvalues* is plugged into the second derivative of *f(x) = x^8.* The second derivative function is *f'(x) = 56*x^6.*"
   ]
  },
  {
   "cell_type": "code",
   "execution_count": 66,
   "metadata": {},
   "outputs": [
    {
     "data": {
      "text/plain": [
       "array([0., 0., 0., 0., 0., 0., 0., 0., 0., 0.])"
      ]
     },
     "execution_count": 66,
     "metadata": {},
     "output_type": "execute_result"
    }
   ],
   "source": [
    "yderivativetwo = np.zeros_like(xvalues)\n",
    "yderivativetwo"
   ]
  },
  {
   "cell_type": "code",
   "execution_count": 67,
   "metadata": {},
   "outputs": [],
   "source": [
    "for i in range(1, len(xvalues)-1,1):\n",
    "    yderivativetwo[i] = (56*xvalues[i])**6"
   ]
  },
  {
   "cell_type": "code",
   "execution_count": 68,
   "metadata": {},
   "outputs": [
    {
     "data": {
      "text/plain": [
       "array([0.00000000e+00, 5.80327439e+04, 3.71409561e+06, 4.23058703e+07,\n",
       "       2.37702119e+08, 9.06761624e+08, 2.70757570e+09, 6.82749429e+09,\n",
       "       1.52129356e+10, 0.00000000e+00])"
      ]
     },
     "execution_count": 68,
     "metadata": {},
     "output_type": "execute_result"
    }
   ],
   "source": [
    " yderivativetwo"
   ]
  },
  {
   "cell_type": "markdown",
   "metadata": {},
   "source": [
    "## Error Calculation"
   ]
  },
  {
   "cell_type": "markdown",
   "metadata": {},
   "source": [
    "Now that we have the approximate values for the derivatives at various xpoints (numerial derivative computation) and the true values for the derivative at those same xpoints, we can calculate the difference, or the error, between them. \n",
    "\n",
    "Let's look at the differences between the 2nd derivatives.  Here, we set up an array *error* that will store those difference values between the 2nd derivative estimations and true values. "
   ]
  },
  {
   "cell_type": "code",
   "execution_count": 77,
   "metadata": {},
   "outputs": [],
   "source": [
    "error = np.zeros_like(xvalues)"
   ]
  },
  {
   "cell_type": "code",
   "execution_count": 78,
   "metadata": {},
   "outputs": [],
   "source": [
    "for i in range(1,len(xvalues)-1,1):\n",
    "    error[i] = yderivativetwo[i] - yapprox_derivative2[i]"
   ]
  },
  {
   "cell_type": "code",
   "execution_count": 79,
   "metadata": {},
   "outputs": [
    {
     "data": {
      "text/plain": [
       "array([0.00000000e+00, 5.80327438e+04, 3.71409561e+06, 4.23058703e+07,\n",
       "       2.37702119e+08, 9.06761623e+08, 2.70757570e+09, 6.82749428e+09,\n",
       "       1.52129356e+10, 0.00000000e+00])"
      ]
     },
     "execution_count": 79,
     "metadata": {},
     "output_type": "execute_result"
    }
   ],
   "source": [
    "error"
   ]
  },
  {
   "cell_type": "markdown",
   "metadata": {},
   "source": [
    "The code below generates a plot of these error values to see how they change as the xvalues change. "
   ]
  },
  {
   "cell_type": "code",
   "execution_count": 94,
   "metadata": {},
   "outputs": [],
   "source": [
    "import matplotlib.pyplot as plt"
   ]
  },
  {
   "cell_type": "code",
   "execution_count": 97,
   "metadata": {},
   "outputs": [
    {
     "data": {
      "text/plain": [
       "[<matplotlib.lines.Line2D at 0x1f3a36d5a88>]"
      ]
     },
     "execution_count": 97,
     "metadata": {},
     "output_type": "execute_result"
    },
    {
     "data": {
      "image/png": "[encoded data removed]",
      "text/plain": [
       "<Figure size 432x288 with 1 Axes>"
      ]
     },
     "metadata": {
      "needs_background": "light"
     },
     "output_type": "display_data"
    }
   ],
   "source": [
    "x = np.linspace(0,1,10) \n",
    "plt.plot(x,error, color = 'purple', marker = 'o', linestyle = 'dashed')"
   ]
  }
 ],
 "metadata": {
  "kernelspec": {
   "display_name": "Python 3",
   "language": "python",
   "name": "python3"
  },
  "language_info": {
   "codemirror_mode": {
    "name": "ipython",
    "version": 3
   },
   "file_extension": ".py",
   "mimetype": "text/x-python",
   "name": "python",
   "nbconvert_exporter": "python",
   "pygments_lexer": "ipython3",
   "version": "3.7.6"
  }
 },
 "nbformat": 4,
 "nbformat_minor": 4
}
