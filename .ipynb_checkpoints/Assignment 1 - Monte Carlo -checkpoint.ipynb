{
 "cells": [
  {
   "cell_type": "markdown",
   "metadata": {},
   "source": [
    "# Monte Carlo Simulation - Estimating Pi "
   ]
  },
  {
   "cell_type": "markdown",
   "metadata": {},
   "source": [
    "In the below code, we are creating a hypothetical circle positioned at (0,0) and inscribed in a square with sidelength of 200. We are generating 1000 random points within the bounds of the square and, using the equation of the circle x^2 + y^2 = r^2, counting how many of these random points fall within the bounds of the inscribed circle. From here, we using a formula to generate an estimate of pi. "
   ]
  },
  {
   "cell_type": "code",
   "execution_count": 54,
   "metadata": {},
   "outputs": [],
   "source": [
    "import random\n",
    " \n",
    "circle_point = 0\n",
    "    \n",
    "for i in range (10000):\n",
    "    x = random.randint(-100,100)\n",
    "    y = random.randint(-100,100)\n",
    "   \n",
    "    if (x**2 + y**2 < 100**2):\n",
    "        circle_point += 1\n",
    "\n",
    "EstimateofPi = 4*(circle_point/10000)\n"
   ]
  },
  {
   "cell_type": "code",
   "execution_count": 55,
   "metadata": {},
   "outputs": [
    {
     "name": "stdout",
     "output_type": "stream",
     "text": [
      "3.1312\n"
     ]
    }
   ],
   "source": [
    "print(EstimateofPi)"
   ]
  },
  {
   "cell_type": "code",
   "execution_count": null,
   "metadata": {},
   "outputs": [],
   "source": []
  }
 ],
 "metadata": {
  "kernelspec": {
   "display_name": "Python 3",
   "language": "python",
   "name": "python3"
  },
  "language_info": {
   "codemirror_mode": {
    "name": "ipython",
    "version": 3
   },
   "file_extension": ".py",
   "mimetype": "text/x-python",
   "name": "python",
   "nbconvert_exporter": "python",
   "pygments_lexer": "ipython3",
   "version": "3.7.6"
  }
 },
 "nbformat": 4,
 "nbformat_minor": 4
}
