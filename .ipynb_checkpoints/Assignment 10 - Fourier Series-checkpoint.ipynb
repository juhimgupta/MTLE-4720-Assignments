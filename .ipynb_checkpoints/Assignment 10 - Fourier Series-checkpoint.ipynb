{
 "cells": [
  {
   "cell_type": "markdown",
   "metadata": {},
   "source": [
    "# Fourier Series"
   ]
  },
  {
   "cell_type": "markdown",
   "metadata": {},
   "source": [
    "The purpose of this github page is to demonstrate fourier series representations and how they compare to analytical solutions. The code is intended for those who have knowledge of Calculus and are interested to see how fourier series calculations can be performed and seen in python! "
   ]
  },
  {
   "cell_type": "code",
   "execution_count": 2,
   "metadata": {},
   "outputs": [
    {
     "name": "stdout",
     "output_type": "stream",
     "text": [
      "IPython console for SymPy 1.5.1 (Python 3.7.6-64-bit) (ground types: python)\n",
      "\n",
      "These commands were executed:\n",
      ">>> from __future__ import division\n",
      ">>> from sympy import *\n",
      ">>> x, y, z, t = symbols('x y z t')\n",
      ">>> k, m, n = symbols('k m n', integer=True)\n",
      ">>> f, g, h = symbols('f g h', cls=Function)\n",
      ">>> init_printing()\n",
      "\n",
      "Documentation can be found at https://docs.sympy.org/1.5.1/\n",
      "\n"
     ]
    }
   ],
   "source": [
    "import sympy as sp\n",
    "sp.init_session()"
   ]
  },
  {
   "cell_type": "markdown",
   "metadata": {},
   "source": [
    "## Demonstrating that the Inner Product of Certain Functions are Zero"
   ]
  },
  {
   "cell_type": "markdown",
   "metadata": {},
   "source": [
    "When we use Euclidian vectors *i, j* and*k* for physical problems, we can get the sense of the meaning behind orthogonality and how vectors in a vector space are related to eachother. In calculating the dot product of two vectors, we multiply components with the same index (*i, j* or *k*) and sum them all together. We can tell whether or not the vectors are orthogonal. If the dot product is 0, the vectors are orthogonal.\n",
    "\n",
    "However, this summation does not work with complex vectors. So, we can generalize the dot product to the inner product of two functions, which gives how much one function is projected onto another. When the functions are real, the inner product is no different than the dot product. The inner product multiplies values at the same x-position and summing, like the dot product. With infinitely many x values, the summing becomes an integral. Essentially, to calculate an inner product for functions, we take the complex conjugate of the first function, multipy the two functions, and then integrate the product function. When this inner product is equal to 0, the two functions are said to be orthogonal (analogous to use the dot product for vectors). When functions are orthogonal, they form a function space that can be used to approximate other functions.\n",
    "\n",
    "Luckily, we can write simple python code to calculate the inner product for us! We can simply use *sp.integrate* to multiply the two functions sin(4x) and cos(x), then integrate them with respect to x over the interval 0 to 2pi. The result is 0, showing that those two functions are orthogonal. "
   ]
  },
  {
   "cell_type": "code",
   "execution_count": 4,
   "metadata": {},
   "outputs": [
    {
     "data": {
      "image/png": "[encoded data removed]",
      "text/latex": [
       "$\\displaystyle 0$"
      ],
      "text/plain": [
       "0"
      ]
     },
     "execution_count": 4,
     "metadata": {},
     "output_type": "execute_result"
    }
   ],
   "source": [
    "sp.integrate(sp.sin(4*x)*sp.cos(1*x), (x, 0, sp.pi*2))"
   ]
  },
  {
   "cell_type": "markdown",
   "metadata": {},
   "source": [
    "## Series for a Sawtooth Wave of a Piecewise Function"
   ]
  },
  {
   "cell_type": "markdown",
   "metadata": {},
   "source": [
    "Even discontinious periodic functions, such as the piecewise function we will use in our example, can be written as an infinite sequence of cosine and sine functions with the Fourier Series. Since an infinite sequence is not possible, we sue this sequence of cosine and sine functions to __approximate__ the original, in our case piece-wise, function. The more terms from the infinitie sequence we include in the approximation, the more accurate the approximation will be to the original function. \n",
    "\n",
    "To visualize this, we make our original function *myAwesomeFunction* with two parts. Given that *x* is the imput for the functions, *myAwesomeFunction1* is the part of the piece wise function whose result is x - 2pi on the interval pi to 2pi. *myAwesomeFunction2* is the part of the piece wise function whose result is x on the interval 0 to pi. These functions are the original functions that we will use Fourier Series to approximate. We then define a function *fsMyFunc* and *fsMyFunc2* to return the Fourier Series approximation of *myAwesomeFunction1* and *myAwesomeFunction2* respectively. To calculate that Fourier series, we can use the simple *sympy* command, *sp.fourier_series.* \n",
    "\n",
    "To visualize the fourier series approximation relative to the original piece-wise function, we set up another function called *plotMyFunc.* Here, *p1* is the plot of the fourier series approximation of *myAwesomeFunction1* on the interval pi to 2pi while *p2* is graph of *myAwesomeFunction1* on the same interval. *p3* is the graph of *myAwesomeFunction2* on the interval 0 to pi and *p4* is the graph of its fourier series approximation on the same interval. \n",
    "\n",
    "We then append *p2* so that it contains the first value in *p1* and ensure that the approximation accurately approximates the function by \"resting on top\" of the original function. Additionally, we use *.extend* to include the graphs of *p3* and *p4* in the graph produced and use *.show* to actually see the graphs. "
   ]
  },
  {
   "cell_type": "code",
   "execution_count": 6,
   "metadata": {},
   "outputs": [],
   "source": [
    "import sympy as sp\n",
    "import matplotlib.pyplot as plt\n",
    "from ipywidgets import interact, fixed"
   ]
  },
  {
   "cell_type": "code",
   "execution_count": 21,
   "metadata": {},
   "outputs": [],
   "source": [
    "sp.init_printing()\n",
    "\n",
    "x = sp.symbols('x')\n",
    "\n",
    "def myAwesomeFunction1(x):\n",
    "    a = x - 2*sp.pi\n",
    "    return a\n",
    "def myAwesomeFunction2(x):\n",
    "    a = x\n",
    "    return a\n",
    "\n",
    "def fsMyFunc(terms, var):\n",
    "    return sp.fourier_series(myAwesomeFunction1(var), (var, sp.pi, 2*sp.pi)).truncate(n=terms)\n",
    "\n",
    "def fsMyFunc2(terms, var):\n",
    "    return sp.fourier_series(myAwesomeFunction2(var), (var, 0, sp.pi)).truncate(n=terms)\n",
    "\n",
    "def plotMyFunc(terms):\n",
    "    p1 = sp.plot(fsMyFunc(terms,x),(x,sp.pi, 2*sp.pi), show=False, line_color='m')\n",
    "    p2 = sp.plot(myAwesomeFunction1(x), (x,sp.pi,2*sp.pi), show=False, line_color='b') \n",
    "    p3 = sp.plot(myAwesomeFunction2(x), (x,0,sp.pi), show=False, line_color='b') \n",
    "    p4 = sp.plot(fsMyFunc2(terms,x),(x,0,sp.pi), show=False, line_color='m')\n",
    "    p2.append(p1[0])\n",
    "    p2.extend(p3)\n",
    "    p2.extend(p4)\n",
    "    p2.show()\n",
    "    return None\n",
    "\n",
    "plt.rcParams['lines.linewidth'] = 3\n",
    "plt.rcParams['figure.figsize'] = 8, 6"
   ]
  },
  {
   "cell_type": "markdown",
   "metadata": {},
   "source": [
    "We have the following to adjust the number of terms we want to approximate to! As we can see by adjusting this, the more terms, the more accurate the approximation is. "
   ]
  },
  {
   "cell_type": "code",
   "execution_count": 22,
   "metadata": {},
   "outputs": [
    {
     "data": {
      "application/vnd.jupyter.widget-view+json": {
       "model_id": "e0f59dcdba3047f59d91e710ca390dc0",
       "version_major": 2,
       "version_minor": 0
      },
      "text/plain": [
       "interactive(children=(IntSlider(value=5, description='terms', max=10, min=1), Output()), _dom_classes=('widget…"
      ]
     },
     "metadata": {},
     "output_type": "display_data"
    }
   ],
   "source": [
    "interact(plotMyFunc, terms=(1,10,1));"
   ]
  },
  {
   "cell_type": "markdown",
   "metadata": {},
   "source": [
    "## Another Fourier Series Example and Generating a Sawtooth Wave"
   ]
  },
  {
   "cell_type": "markdown",
   "metadata": {},
   "source": [
    "This is another example of taking the fourier series of a function and generating a sawtooth way to see how well the approximation approximates the original function. In this case, our original function is y = 2^x. Below, we see the first few terms when getting the fourier series approximation of this function. "
   ]
  },
  {
   "cell_type": "code",
   "execution_count": 24,
   "metadata": {},
   "outputs": [
    {
     "data": {
      "image/png": "[encoded data removed]",
      "text/latex": [
       "$\\displaystyle \\frac{\\left(- \\frac{1}{2^{\\pi} \\left(\\log{\\left(2 \\right)}^{2} + 1\\right)} + \\frac{2^{\\pi}}{\\log{\\left(2 \\right)}^{2} + 1}\\right) \\sin{\\left(x \\right)}}{\\pi} + \\frac{\\left(- \\frac{2 \\cdot 2^{\\pi}}{\\log{\\left(2 \\right)}^{2} + 4} + \\frac{2}{2^{\\pi} \\left(\\log{\\left(2 \\right)}^{2} + 4\\right)}\\right) \\sin{\\left(2 x \\right)}}{\\pi} + \\frac{\\left(- \\frac{2^{\\pi} \\log{\\left(2 \\right)}}{\\log{\\left(2 \\right)}^{2} + 1} + \\frac{\\log{\\left(2 \\right)}}{2^{\\pi} \\left(\\log{\\left(2 \\right)}^{2} + 1\\right)}\\right) \\cos{\\left(x \\right)}}{\\pi} + \\frac{\\left(- \\frac{\\log{\\left(2 \\right)}}{2^{\\pi} \\left(\\log{\\left(2 \\right)}^{2} + 4\\right)} + \\frac{2^{\\pi} \\log{\\left(2 \\right)}}{\\log{\\left(2 \\right)}^{2} + 4}\\right) \\cos{\\left(2 x \\right)}}{\\pi} + \\frac{- \\frac{1}{2^{\\pi} \\log{\\left(2 \\right)}} + \\frac{2^{\\pi}}{\\log{\\left(2 \\right)}}}{2 \\pi} + \\ldots$"
      ],
      "text/plain": [
       "⎛       -π             π    ⎞          ⎛         π            -π   ⎞          \n",
       "⎜      2              2     ⎟          ⎜      2⋅2          2⋅2     ⎟          \n",
       "⎜- ─────────── + ───────────⎟⋅sin(x)   ⎜- ─────────── + ───────────⎟⋅sin(2⋅x) \n",
       "⎜     2             2       ⎟          ⎜     2             2       ⎟          \n",
       "⎝  log (2) + 1   log (2) + 1⎠          ⎝  log (2) + 4   log (2) + 4⎠          \n",
       "──────────────────────────────────── + ────────────────────────────────────── \n",
       "                 π                                       π                    \n",
       "\n",
       "  ⎛    π             -π       ⎞          ⎛    -π            π        ⎞        \n",
       "  ⎜   2 ⋅log(2)     2  ⋅log(2)⎟          ⎜   2  ⋅log(2)    2 ⋅log(2) ⎟        \n",
       "  ⎜- ─────────── + ───────────⎟⋅cos(x)   ⎜- ─────────── + ───────────⎟⋅cos(2⋅x\n",
       "  ⎜     2             2       ⎟          ⎜     2             2       ⎟        \n",
       "  ⎝  log (2) + 1   log (2) + 1⎠          ⎝  log (2) + 4   log (2) + 4⎠        \n",
       "+ ──────────────────────────────────── + ─────────────────────────────────────\n",
       "                   π                                       π                  \n",
       "\n",
       "                         \n",
       "        -π        π      \n",
       ")      2         2       \n",
       "    - ────── + ──────    \n",
       "      log(2)   log(2)    \n",
       "─ + ───────────────── + …\n",
       "           2⋅π           "
      ]
     },
     "execution_count": 24,
     "metadata": {},
     "output_type": "execute_result"
    }
   ],
   "source": [
    "sp.fourier_series(2**x)"
   ]
  },
  {
   "cell_type": "markdown",
   "metadata": {},
   "source": [
    "Next, we take the same approach that we had before: constructing a function for the original function (titled *myAwesomeFunction3*),constructing a function for calculating the fourier series (titled *fsMyFunc3*), and then a final function for plotting those two graphs on the interval -5 to 5. "
   ]
  },
  {
   "cell_type": "code",
   "execution_count": 29,
   "metadata": {},
   "outputs": [],
   "source": [
    "sp.init_printing()\n",
    "\n",
    "def myAwesomeFunction3(x):\n",
    "    y = 2**x\n",
    "    return y\n",
    "\n",
    "def fsMyFunc3(terms, var):\n",
    "    return sp.fourier_series(myAwesomeFunction3(x), (var, -5, 5)).truncate(n=terms)\n",
    "\n",
    "def plotMyFunc2(terms):\n",
    "    p5 = sp.plot(fsMyFunc3(terms,x),(x,-5,5), show=False, line_color='g')\n",
    "    p6 = sp.plot(myAwesomeFunction3(x), (x,-5,5), show=False, line_color='black')\n",
    "    p6.extend(p5)\n",
    "    p6.show()\n",
    "\n",
    "plt.rcParams['lines.linewidth'] = 3\n",
    "plt.rcParams['figure.figsize'] = 8, 6"
   ]
  },
  {
   "cell_type": "markdown",
   "metadata": {},
   "source": [
    "Just like in the last example, we have the following to adjust the number of terms we want to approximate to. As we can see by adjusting this, the more terms, the more accurate the approximation is. "
   ]
  },
  {
   "cell_type": "code",
   "execution_count": 30,
   "metadata": {},
   "outputs": [
    {
     "data": {
      "application/vnd.jupyter.widget-view+json": {
       "model_id": "75642c3947c84d82a97a332a9fdabc5a",
       "version_major": 2,
       "version_minor": 0
      },
      "text/plain": [
       "interactive(children=(IntSlider(value=5, description='terms', max=10, min=1), Output()), _dom_classes=('widget…"
      ]
     },
     "metadata": {},
     "output_type": "display_data"
    }
   ],
   "source": [
    "interact(plotMyFunc2, terms=(1,10,1));"
   ]
  },
  {
   "cell_type": "markdown",
   "metadata": {},
   "source": [
    "## References\n",
    "* https://stackoverflow.com/questions/19932072/plotting-2-or-more-functions-in-the-same-graph\n",
    "* https://stackoverflow.com/questions/50782952/fourier-series-of-piecewise-python\n",
    "* http://www.eng.fsu.edu/~dommelen/quantum/style_a/dot.html#:~:text=The%20dot%20product%20of%20vectors,and%20taking%20the%20square%20root.&text=In%20this%20subsection%2C%20the%20dot,for%20complex%20vectors%20and%20functions.\n",
    "* https://kconrad.math.uconn.edu/math1132s10/sawtooth.html"
   ]
  }
 ],
 "metadata": {
  "kernelspec": {
   "display_name": "Python 3",
   "language": "python",
   "name": "python3"
  },
  "language_info": {
   "codemirror_mode": {
    "name": "ipython",
    "version": 3
   },
   "file_extension": ".py",
   "mimetype": "text/x-python",
   "name": "python",
   "nbconvert_exporter": "python",
   "pygments_lexer": "ipython3",
   "version": "3.7.6"
  }
 },
 "nbformat": 4,
 "nbformat_minor": 4
}
