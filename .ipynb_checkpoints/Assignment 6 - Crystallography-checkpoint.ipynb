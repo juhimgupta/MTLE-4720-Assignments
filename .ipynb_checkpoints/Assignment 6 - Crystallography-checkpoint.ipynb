{
 "cells": [
  {
   "cell_type": "markdown",
   "metadata": {},
   "source": [
    "# Recreating Crystallography Plane Groups in Python"
   ]
  },
  {
   "cell_type": "markdown",
   "metadata": {},
   "source": [
    "In this project, we will attempt to create an image of a few 2D plane groups that are common in crystal structures! This can be accomplished by using matrix algebra, where the matrix contains the initial points of a shape that we create, as well as the mathematical operations required for rotation, translations, and reflection. These operations are required to model the orientations of a shape in crystal structures! This code is geared towards those who have a little bit of experience in coding, an understanding of basic geometric transformations, and some experience with matrix algebra and are looking to challenge themselves. "
   ]
  },
  {
   "cell_type": "markdown",
   "metadata": {},
   "source": [
    "First, we need to import all the necessary packages to use in this code. "
   ]
  },
  {
   "cell_type": "code",
   "execution_count": 1,
   "metadata": {},
   "outputs": [],
   "source": [
    "import sympy as sp\n",
    "import numpy as np\n",
    "from math import sqrt\n",
    "import math\n",
    "from PIL import Image, ImageDraw"
   ]
  },
  {
   "cell_type": "markdown",
   "metadata": {},
   "source": [
    "## Practicing With Transformation Matrices"
   ]
  },
  {
   "cell_type": "markdown",
   "metadata": {},
   "source": [
    "Before we get into writing the code to generate these plane groups, let's first talk about some basic transformations and how they are represented in matrix form to apply on the points. More specifically, we can look at ways to rotate a vector (0,1). "
   ]
  },
  {
   "cell_type": "markdown",
   "metadata": {},
   "source": [
    "### Rotation"
   ]
  },
  {
   "cell_type": "markdown",
   "metadata": {},
   "source": [
    "To rotate a vector (0,1), we can a general rotation matrix. \n",
    "$$\\begin{bmatrix} \\cos(\\theta) & -\\sin(\\theta) \\\\ \\sin(\\theta) & \\cos(\\theta) \\end{bmatrix}$$"
   ]
  },
  {
   "cell_type": "markdown",
   "metadata": {},
   "source": [
    "We can select any value for theta and apply it to a vector. In the example below, we write a function *rotation2D* to ask the user what angle (in degrees) they would like to rotate the vector by. This code converts an input in degrees into radians and saves it in a new variable *radtheta.* This allow the operations *sin* and *cos* to run. It then generates an array that fills in theta value the user gave into the rotation matrix shown above. This array can be \"dotted\" with the specified vector array which is in this case, (0,1). The dot product of these two gives us the new *x* and *y* values of the vector after rotation. "
   ]
  },
  {
   "cell_type": "markdown",
   "metadata": {},
   "source": [
    "In the cell below, we can see this function be applied to an inputted angle of 0, 45, 60, 90, 180, and -270. The \"n\" is written after the *testArray* and *Rotation* to emphasize that this is a negative angle. "
   ]
  },
  {
   "cell_type": "code",
   "execution_count": 3,
   "metadata": {},
   "outputs": [
    {
     "name": "stdout",
     "output_type": "stream",
     "text": [
      "[1. 0.]\n",
      "[0.70710678 0.70710678]\n",
      "[0.5       0.8660254]\n",
      "[6.123234e-17 1.000000e+00]\n",
      "[-1.0000000e+00  1.2246468e-16]\n",
      "[-1.8369702e-16  1.0000000e+00]\n"
     ]
    }
   ],
   "source": [
    "#Defining Some Rotation Matrix with Angle Theta that will be applied to a specified vector (with specific coordinates) \n",
    "#to generate new points\n",
    "def rotation2D(theta):\n",
    "    radtheta = theta*(np.pi/180)\n",
    "    return np.array([[np.cos(radtheta), np.sin(radtheta)],\n",
    "                     [-np.sin(radtheta),  np.cos(radtheta)]])\n",
    "\n",
    "#Now we are setting a value of 90 degrees to the rotation matrix, which will then be multiplied by a specified vector\n",
    "#testArray is a rotation matrix with angle 90\n",
    "testArray0 = rotation2D(0)\n",
    "testArray0\n",
    "\n",
    "#Now we are taking a vector [1,0] and multiplying (using dot product) that vector by the rotation matrix testArray \n",
    "Rotation0 = np.dot(np.array([1,0]),testArray0)\n",
    "print(Rotation0)\n",
    "\n",
    "#Now, let's rotate a vector 45 degrees \n",
    "testArray45 = rotation2D(45)\n",
    "testArray45\n",
    "Rotation45 = np.dot(np.array([1,0]), testArray45)\n",
    "print(Rotation45)\n",
    "\n",
    "testArray60 = rotation2D(60)\n",
    "testArray60\n",
    "Rotation60 = np.dot(np.array([1,0]), testArray60)\n",
    "print(Rotation60)\n",
    "\n",
    "testArray90 = rotation2D(90)\n",
    "testArray90\n",
    "Rotation90 = np.dot(np.array([1,0]), testArray90)\n",
    "print(Rotation90)\n",
    "\n",
    "testArray180 = rotation2D(180)\n",
    "testArray180\n",
    "Rotation180 = np.dot(np.array([1,0]), testArray180)\n",
    "print(Rotation180)\n",
    "\n",
    "#I wrote n in front of the angle to indicate -270\n",
    "testArrayn270 = rotation2D(-270)\n",
    "testArrayn270\n",
    "Rotationn270 = np.dot(np.array([1,0]), testArrayn270)\n",
    "print(Rotationn270)"
   ]
  },
  {
   "cell_type": "markdown",
   "metadata": {},
   "source": [
    "We now have the new coordiates of the original vector (0,1) after various rotations!"
   ]
  },
  {
   "cell_type": "markdown",
   "metadata": {},
   "source": [
    "## Getting an Image Using Transformation Matrices"
   ]
  },
  {
   "cell_type": "markdown",
   "metadata": {},
   "source": [
    "### Class Definitions for Ease of Code"
   ]
  },
  {
   "cell_type": "markdown",
   "metadata": {},
   "source": [
    "For our image, let's choose a triangle to be the main shape in a 2D plane group. In order to construct a triangle, let's define two classes: *Point* and *Triangle.* We use this *Point* object to simplify the storage of the (x,y) coordinate points that will define our triangle. This will allow us to input coordinate points in the *Point(x,y)* format. \n",
    "\n",
    "Our next class is *Triangle.* This class is constructed from points and helps organize information on triangles. It also contains a *points()* method for getting points in a form that can be used with the Python Image Library's polygon drawing. Finally, the *Triangle* class contains an *affine* method that will apply a matrix transformation to the points. \n",
    "\n",
    "*Affine* defines the operations that need to be conducted to dot two matrices. It also changes the points of the original triangle based on the operations that are specified once we apply these classes into *newTriangle.*"
   ]
  },
  {
   "cell_type": "code",
   "execution_count": 6,
   "metadata": {},
   "outputs": [],
   "source": [
    "class Point:\n",
    "    def __init__(self,x_init,y_init):\n",
    "        self.x = x_init\n",
    "        self.y = y_init\n",
    "\n",
    "    def shift(self, x, y):\n",
    "        self.x += x\n",
    "        self.y += y\n",
    "\n",
    "    def __repr__(self):\n",
    "        return \"\".join([\"Point(\", str(self.x), \",\", str(self.y), \")\"])\n",
    "    \n",
    "class Triangle:\n",
    "    def __init__(self, p1_init, p2_init, p3_init):\n",
    "        self.p1 = p1_init\n",
    "        self.p2 = p2_init\n",
    "        self.p3 = p3_init\n",
    "        \n",
    "    def points(self):\n",
    "        x1, y1 = self.p1.x, self.p1.y\n",
    "        x2, y2 = self.p2.x, self.p2.y\n",
    "        x3, y3 = self.p3.x, self.p3.y\n",
    "        \n",
    "        return [(x1,y1),(x2,y2),(x3,y3)]\n",
    "    def affine(self, affineMatrix):\n",
    "        x1, y1 = self.p1.x, self.p1.y\n",
    "        x2, y2 = self.p2.x, self.p2.y\n",
    "        x3, y3 = self.p3.x, self.p3.y\n",
    "        \n",
    "        p1Vector = np.array([[x1, y1, 1]])\n",
    "        p2Vector = np.array([[x2, y2 , 1]])\n",
    "        p3Vector = np.array([[x3, y3, 1]])\n",
    "        \n",
    "        p1New = np.dot(affineMatrix, p1Vector.T)\n",
    "        p2New = np.dot(affineMatrix, p2Vector.T)\n",
    "        p3New = np.dot(affineMatrix, p3Vector.T)\n",
    "        \n",
    "        newTriangle = Triangle(Point(p1New[0,0],p1New[1,0]),Point(p2New[0,0],p2New[1,0]),Point(p3New[0,0],p3New[1,0]))\n",
    "        \n",
    "        return newTriangle"
   ]
  },
  {
   "cell_type": "markdown",
   "metadata": {},
   "source": [
    "### Triangle Translation"
   ]
  },
  {
   "cell_type": "markdown",
   "metadata": {},
   "source": [
    "Now, let's apply the above classes to make a triangle and perform a simple translation. \n",
    "\n",
    "First, lets create an image with a mode of *RGB,* a size of (500,100), and a background color of black with *Image.new.*\n",
    "\n",
    "Next, let's define a triangle called *t1* using the classes defined earlier. \n",
    "\n",
    "Next, let's define a translation matrix (much like the rotation matrix shown earlier) where we can shift a triangle 50 units to the right. \n",
    "\n",
    "After this, we can use the *affine* method on the Triangle to get the dot product of *translationMatrix* and points of the spefified triangle. *t2* translates triangle *t1* and *t3* translates triangle *t3.* The command underneath this prints the points of the 3 triangles. \n",
    "\n",
    "Next, we use *draw.polygon* to draw the triangles now defined. Finally, we write *image* to prompt jupyter notebook to actually output the image we have now drawn."
   ]
  },
  {
   "cell_type": "code",
   "execution_count": 24,
   "metadata": {},
   "outputs": [
    {
     "name": "stdout",
     "output_type": "stream",
     "text": [
      "[(10, 10), (40, 10), (10, 50)] [(60, 10), (90, 10), (60, 50)]\n"
     ]
    },
    {
     "data": {
      "image/png": "[encoded data removed]",
      "text/plain": [
       "<PIL.Image.Image image mode=RGB size=500x100 at 0x17621C2E248>"
      ]
     },
     "execution_count": 24,
     "metadata": {},
     "output_type": "execute_result"
    }
   ],
   "source": [
    "image = Image.new('RGB', (500, 100), 'black')\n",
    "draw = ImageDraw.Draw(image)\n",
    "\n",
    "t1 = Triangle(Point(10,10),Point(40,10),Point(10,50))\n",
    "\n",
    "translationMatrix = np.array([[1,0,50],[0,1,0],[0,0,1]])\n",
    "\n",
    "t2 = t1.affine(translationMatrix)\n",
    "t3 = t2.affine(translationMatrix)\n",
    "\n",
    "print (t1.points(), t2.points())\n",
    "\n",
    "draw.polygon(t1.points(), outline='black', fill='red')\n",
    "draw.polygon(t2.points(), outline='black', fill='green')\n",
    "draw.polygon(t3.points(), outline = 'black', fill = 'blue')\n",
    "\n",
    "image"
   ]
  },
  {
   "cell_type": "markdown",
   "metadata": {},
   "source": [
    "### Making a 2D Plane Group"
   ]
  },
  {
   "cell_type": "markdown",
   "metadata": {},
   "source": [
    "#### Making a Triangle and the Transformation Matrices"
   ]
  },
  {
   "cell_type": "markdown",
   "metadata": {},
   "source": [
    "Now we have the tools we need to make a 2D plane group! We can start the same way as we did in making an image of triangle translations. We create an image to draw on as well as a triangle that we can use to make other triangles. \n",
    "\n",
    "Since we are trying to make many triangles, let's store all the triangles generated into *trianglelist,* and first just put *t1* in that list. This list will later be appended to contain all the triangles we construct. \n",
    "\n",
    "Next, we can define a translation matrix that is user-defined to shift the original points of the triangle *t1* to new points. This function is called *transmatrix* that requires the user to input how many units in teh x-direction and the y-direction they would like to shift the original triangle to make a new triangle. \n",
    "\n",
    "After this, we can do the same for creating a rotation matrix. In this case, we do the same thing that we did earlier for creating a user-defined array of rotation. \n",
    "\n",
    "Following this, we can create matrices for reflecting a triangle. *mirrorY* reflects an object about the y-axis and *mirrorX* reflects an object about the x-axis. "
   ]
  },
  {
   "cell_type": "markdown",
   "metadata": {},
   "source": [
    "#### Plane Group Patterns "
   ]
  },
  {
   "cell_type": "markdown",
   "metadata": {},
   "source": [
    "Now that we have defined our image to draw on, a triangle to work with, and the matrices we can use copy the original triangle in various orientations across the image, we can now create patterns! Here, we create two patterns to construct a plane group. For the *p2mg* pattern, we use the relfection matrices to generate new triangles based off of already existing ones. For the *p4* pattern, we use the rotation function with an angle of 90 to do the same. \n",
    "\n",
    "Again, we can use *affine* along with the triangle that we want to create a copy of and apply a transformation to. We can save each new triangle created into a new variable. For the *p2mg* pattern, we set triangles *t1, t2, t3,* and *t4.* For the *p4* pattern, we set triangles *t5, t6, t7,* and *t8.* \n",
    "\n",
    "After these triangles are defined, we can actually save these triangles into an array for *p2mg* and *p4.*"
   ]
  },
  {
   "cell_type": "markdown",
   "metadata": {},
   "source": [
    "#### Plotting Repititions of the Triangle Patterns "
   ]
  },
  {
   "cell_type": "markdown",
   "metadata": {},
   "source": [
    "Now that we have patterns, we need to be able to draw these across the gray image. To do this, we can define two functions:*latticeVectorA* and *latticeVectorB.* The former function shifts the pattern 150 units to the right across the gray image. The latter shifts the pattern 150 units down across the gray image. Within these functions, two square matrices are constructed that can be dotted together to generate a new matrix that is applied to the triangles in the patterns. The matrices constructed from the *xstep* and *ystep* are taken to the power of an inputted *i* and *j,* where *i* will define how many repetitions of the pattern there will be in the x-direction and *j* defines how many repitions of the pattern there will be in the y-direction. \n",
    "\n",
    "For example, if *i* is equal to 3, there will be 3 repitions of the pattern across the x-direction, 150 units apart. \n",
    "\n",
    "Now, we can set up a forloop to ensure that this actually occurs. In this case, we set up a range 7 for *j* and a range 7 for *i.* Next, we can say that for each triangle in the pattern array, we can append the *trianglelist* created earlier. By appending, we mean adding triangles that have been manipulated by the dot product of the lattice vectors. \n",
    "\n",
    "Finally, we can say use *draw.polygon* to plot all the triangles in *trianglelist* array and write *image* to prompt jupyter notebook to show us the image produced! "
   ]
  },
  {
   "cell_type": "markdown",
   "metadata": {},
   "source": [
    "__Below we have the pattern *p4.*__"
   ]
  },
  {
   "cell_type": "code",
   "execution_count": 28,
   "metadata": {},
   "outputs": [
    {
     "data": {
      "image/png": "[encoded data removed]",
      "text/plain": [
       "<PIL.Image.Image image mode=RGB size=1000x1000 at 0x176236B1C48>"
      ]
     },
     "execution_count": 28,
     "metadata": {},
     "output_type": "execute_result"
    }
   ],
   "source": [
    "image = Image.new('RGB', (1000, 1000), 'lightgray')\n",
    "draw = ImageDraw.Draw(image)\n",
    "\n",
    "t1 = Triangle(Point(10,10),Point(40,10),Point(10,50))\n",
    "\n",
    "trianglelist = [t1]\n",
    "\n",
    "def transmatrix(x,y): \n",
    "    return np.array([[1,0,x], [0,1,y], [0,0,1]])\n",
    "\n",
    "def rotatmatrix(theta):\n",
    "    radtheta = theta*(np.pi/180)\n",
    "    return np.array([[np.cos(radtheta), np.sin(radtheta), 0],\n",
    "                     [-np.sin(radtheta),  np.cos(radtheta), 0], [0,0,1]])\n",
    "\n",
    "mirrorY = np.array([[-1,0,0], [0,1,0], [0,0,1]])\n",
    "mirrorX = np.array([[1,0,0], [0,-1,0], [0,0,1]])\n",
    "\n",
    "\n",
    "#for the p2mg patter\n",
    "t2 = t1.affine(mirrorY)\n",
    "t3 = t2.affine(mirrorX)\n",
    "t4 = t3.affine(mirrorY)\n",
    "\n",
    "#for the p4 pattern \n",
    "t5 = t1.affine(rotatmatrix(90))\n",
    "t6 = t5.affine(rotatmatrix(90))\n",
    "t7 = t6.affine(rotatmatrix(90))\n",
    "t8 = t7.affine(rotatmatrix(90))\n",
    "\n",
    "#Patterns \n",
    "p2mg = [t1,t2,t3,t4]\n",
    "p4 = [t5,t6,t7,t8]\n",
    "\n",
    "def latticeVectorA(i):\n",
    "    xstep = 150.0\n",
    "    ystep = 0.0\n",
    "    return np.linalg.matrix_power(np.array([[1,0,xstep], [0,1,ystep],[0,0,1]]),i)\n",
    "def latticeVectorB(j):\n",
    "    xstep = 0.0\n",
    "    ystep = 150.0\n",
    "    return np.linalg.matrix_power(np.array([[1,0,xstep], [0,1,ystep],[0,0,1]]),j)\n",
    "\n",
    "for j in range(7):\n",
    "    for i in range(7):\n",
    "        for t in p4:\n",
    "            trianglelist.append(t.affine(np.dot(latticeVectorA(i), latticeVectorB(j))))\n",
    "[draw.polygon(t.points(), outline = 'black', fill = 'lightseagreen') for t in trianglelist];\n",
    "image"
   ]
  }
 ],
 "metadata": {
  "kernelspec": {
   "display_name": "Python 3",
   "language": "python",
   "name": "python3"
  },
  "language_info": {
   "codemirror_mode": {
    "name": "ipython",
    "version": 3
   },
   "file_extension": ".py",
   "mimetype": "text/x-python",
   "name": "python",
   "nbconvert_exporter": "python",
   "pygments_lexer": "ipython3",
   "version": "3.7.6"
  }
 },
 "nbformat": 4,
 "nbformat_minor": 4
}
