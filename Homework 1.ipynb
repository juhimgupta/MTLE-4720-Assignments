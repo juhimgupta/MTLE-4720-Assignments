{
 "cells": [
  {
   "cell_type": "markdown",
   "metadata": {},
   "source": [
    "\n",
    "# __Computer Representation of Numbers__"
   ]
  },
  {
   "cell_type": "markdown",
   "metadata": {},
   "source": [
    "## Bits \n",
    "Numbers are stored in computers in groupings of bits, or binary digits, in order for the computer to effectively perform operations. Each bit can only represent two values, 0 or 1, but many bits combined, or a string of bits, can represent very large values. This is because as the number of bits inside a string increases, the amount of possible combinations of 0 and 1 increases exponentially. Consider the following diagram on the the amount of values a 3-bit string represents below: "
   ]
  },
  {
   "cell_type": "markdown",
   "metadata": {},
   "source": [
    "Binary String | Value\n",
    "------------- | ------\n",
    "000 | 0\n",
    "001 | 1\n",
    "010 | 2\n",
    "011 | 3\n",
    "100 | 4\n",
    "101 | 5\n",
    "110 | 6\n",
    "111 | 7"
   ]
  },
  {
   "cell_type": "markdown",
   "metadata": {},
   "source": [
    "## Data Types \n",
    "Programmers are generally given the choice between several data types. These data types differ from eachother in the number of bits used but also in whether or not a number is stored as a fixed-point or floating point. "
   ]
  },
  {
   "cell_type": "markdown",
   "metadata": {},
   "source": [
    "### Fixed-Point Numbers \n",
    "A fixed point formatting is useful for storing fractions in binary. Here, according to a fixed format used to reach the desired precision and range, a fixed number of bits are used to store the integer for a number while the rest of the bits are used to store the fraction for that number. For instance, in a 32-bit format, 16 bits are used to store the integer value of 1.250 while 16 bits are used to store the fraction value of 1.250 as seen below: \n",
    "\n",
    "00000000 00000001.01000000 00000000\n",
    "\n",
    "Generally, integer fixed-point varibles are declared as short in, which is 16-bit, and long in, which is 32-bit. \n",
    "\n",
    "However, this method cannot represent all values in binary. "
   ]
  },
  {
   "cell_type": "markdown",
   "metadata": {},
   "source": [
    "### Floating-Point Numbers\n",
    " The idea of floating-point numbers is that the decimal point can be placed anywhere relative to the significant digits of the number being stored, as opposed to a fixed-point where the decimal point must be placed after a fixed number of bits. This is in order to approximate greater range and precision of real numbers. \n",
    "\n",
    "Using floating-point numbers, a number is represented through approximation of a fixed number of significant digits, also called the significand, and scaled through an exponent to some fixed base, which is typically 2, 10, or 16. The way a number is stored is illustrated below: \n",
    "\n",
    "$$\n",
    " s x M x B^{e - E}\n",
    "$$ \n",
    "\n",
    "where s is the sign bit(positive or negative), M is the exact positive integer significand, e is the exact integer exponent, B is the base, and E is the bias of the exponent (a fixed constant based on a given machine). \n",
    "\n",
    "Generally, floating-point variables are declared as float, which is 32 bits, and double, which is 64 bits. \n",
    "\n",
    "#### Machine Accuracy \n",
    "Machine accuracy is a number that shows the fractional accuracy to which floating point numbers are represented and depends on how many bits are in the significand. It is found by taking the smallest floating-point number(in magnitude) which, when added to the floating point number 1.0, produces a result difference from 1.0. \n",
    "\n",
    "#### Error \n",
    "\n",
    "##### Roundoff Error \n",
    "Any kind of arithmetic operation conducted on floating-point numbers introduce additional fractional error of at least the value for machine accuracy. These errors are called roundoff errors and is simply a characteristic of computer hardware. These roundoff errors accumulate with more calculations. \n",
    "\n",
    "##### Truncation Error\n",
    "Many times there is a discrepancy between the true answer and the answer coming from practical calculations because algorigthms are typically developed compute discrete approximations for the ideal continuous quantity. The errors created as a result of these algorithms are truncation error and can be controlled by programmers. \n"
   ]
  },
  {
   "cell_type": "markdown",
   "metadata": {},
   "source": [
    "## References\n",
    "* https://piazza.com/class_profile/get_resource/kaopo002gu06qm/kapij3demrg3fa\n",
    "\n",
    "* https://en.wikipedia.org/wiki/Computer_number_format\n",
    "\n",
    "* https://en.wikipedia.org/wiki/Floating-point_arithmetic"
   ]
  }
 ],
 "metadata": {
  "kernelspec": {
   "display_name": "Python 3",
   "language": "python",
   "name": "python3"
  },
  "language_info": {
   "codemirror_mode": {
    "name": "ipython",
    "version": 3
   },
   "file_extension": ".py",
   "mimetype": "text/x-python",
   "name": "python",
   "nbconvert_exporter": "python",
   "pygments_lexer": "ipython3",
   "version": "3.7.6"
  }
 },
 "nbformat": 4,
 "nbformat_minor": 4
}
