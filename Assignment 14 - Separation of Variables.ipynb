{
 "cells": [
  {
   "cell_type": "markdown",
   "metadata": {},
   "source": [
    "# Solution to Diffusion Equation Using Separation of Variables"
   ]
  },
  {
   "cell_type": "markdown",
   "metadata": {},
   "source": [
    "The **purpose** of this code is to solve the diffusion partial differential equation (PDE) using separation of variables. In this way, we can get the solution to a PDE by splitting it into 2 different ordinary differential equations (ODE). After this, we can use the boundary conditions provided to determine constants. Next, we apply an initial condition that is consisten with the physical problem we are dealing with; in this case that problem is diffusion. Finally, we can visualize the results to get a more intuitive understanding of what is going on!"
   ]
  },
  {
   "cell_type": "markdown",
   "metadata": {},
   "source": [
    "## Getting the General Solution"
   ]
  },
  {
   "cell_type": "code",
   "execution_count": 2,
   "metadata": {},
   "outputs": [
    {
     "name": "stdout",
     "output_type": "stream",
     "text": [
      "\n"
     ]
    }
   ],
   "source": [
    "import sympy as sp\n",
    "sp.init_session(quiet=True)\n",
    "sp.init_printing()"
   ]
  },
  {
   "cell_type": "markdown",
   "metadata": {},
   "source": [
    "Let's symbolically see what we are starting to do in this problem. We begin by assuming that the solution has a spatially-dependent part and a time-dependent part. We can represent the space-dependent portion using *X* and the time dependent portion using *T.*"
   ]
  },
  {
   "cell_type": "markdown",
   "metadata": {},
   "source": [
    "$$ \n",
    "c(x,t) = X(x) T(t) \n",
    "$$"
   ]
  },
  {
   "cell_type": "markdown",
   "metadata": {},
   "source": [
    "Next, let's substitute this form of the solution into Fick's Law of Diffusion, and the diffusion coefficient *D.* "
   ]
  },
  {
   "cell_type": "markdown",
   "metadata": {},
   "source": [
    "$$\n",
    "\\frac{\\partial c(x,t)}{\\partial t} = D \\frac{\\partial^2 c(x,t)}{\\partial x^2}\n",
    "$$"
   ]
  },
  {
   "cell_type": "markdown",
   "metadata": {},
   "source": [
    "Next, we subsitute *c(x,t)* with *X(x)* and *T(t).* "
   ]
  },
  {
   "cell_type": "markdown",
   "metadata": {},
   "source": [
    "$$ \\frac{\\partial X(x) T(t)}{\\partial t} = D \\frac{\\partial^2 X(x) T(t)}{\\partial x^2} $$"
   ]
  },
  {
   "cell_type": "markdown",
   "metadata": {},
   "source": [
    "Now, let's use python to separate the variables of this PDE. First, let's define the varibales that we will be using in the diffusion equation. *X* and *T* are functions of space and time, *alpha, gamma,* and *c* are positive variables, and *C1* and *C2* are constants we get through integration. We will let *D* be equal to *alpha^2.*"
   ]
  },
  {
   "cell_type": "code",
   "execution_count": 3,
   "metadata": {},
   "outputs": [
    {
     "data": {
      "image/png": "[encoded data removed]",
      "text/latex": [
       "$\\displaystyle \\left( C_{1}, \\  C_{2}\\right)$"
      ],
      "text/plain": [
       "(C₁, C₂)"
      ]
     },
     "execution_count": 3,
     "metadata": {},
     "output_type": "execute_result"
    }
   ],
   "source": [
    "var('X,T',cls=Function)\n",
    "var('alpha gamma c', positive=True)\n",
    "var('C1 C2')"
   ]
  },
  {
   "cell_type": "markdown",
   "metadata": {},
   "source": [
    "Using the equation above, we can put all values dependent on time on one side and all the valyes dependent on space on the other side. This allows us to effectively split the PDE into 2 ODES: one dependent on time and one dependent on space. Below, we write out the equation for the time-dependent ODE and save it into *timeODE* and below that, we do the save for the space-dependent ODE.  \n",
    "\n",
    "We can see that we set these equations equal to -gamma^2. This is because -gamma^2 serves as a separation constant and since the *timeODE* and *spaceODE* depend on different variables, the only way they can be equal is if they are both equal to a constant. "
   ]
  },
  {
   "cell_type": "code",
   "execution_count": 3,
   "metadata": {},
   "outputs": [
    {
     "data": {
      "image/png": "[encoded data removed]",
      "text/latex": [
       "$\\displaystyle \\frac{\\frac{d}{d t} T{\\left(t \\right)}}{\\alpha^{2} T{\\left(t \\right)}} = - \\gamma^{2}$"
      ],
      "text/plain": [
       "d             \n",
       "──(T(t))      \n",
       "dt           2\n",
       "──────── = -γ \n",
       " 2            \n",
       "α ⋅T(t)       "
      ]
     },
     "execution_count": 3,
     "metadata": {},
     "output_type": "execute_result"
    }
   ],
   "source": [
    "timeODE = sp.Eq(T(t).diff(t,1)/(alpha**2*T(t)),-gamma**2)\n",
    "timeODE"
   ]
  },
  {
   "cell_type": "code",
   "execution_count": 4,
   "metadata": {},
   "outputs": [
    {
     "data": {
      "image/png": "[encoded data removed]",
      "text/latex": [
       "$\\displaystyle \\frac{\\frac{d^{2}}{d x^{2}} X{\\left(x \\right)}}{X{\\left(x \\right)}} = - \\gamma^{2}$"
      ],
      "text/plain": [
       "  2            \n",
       " d             \n",
       "───(X(x))      \n",
       "  2            \n",
       "dx            2\n",
       "───────── = -γ \n",
       "   X(x)        "
      ]
     },
     "execution_count": 4,
     "metadata": {},
     "output_type": "execute_result"
    }
   ],
   "source": [
    "spaceODE = sp.Eq(X(x).diff(x,2)/X(x),-gamma**2)\n",
    "spaceODE"
   ]
  },
  {
   "cell_type": "markdown",
   "metadata": {},
   "source": [
    "Now, lets solve for the function of time, *T(t)* using *dsolve.* "
   ]
  },
  {
   "cell_type": "code",
   "execution_count": 5,
   "metadata": {},
   "outputs": [
    {
     "data": {
      "image/png": "[encoded data removed]",
      "text/latex": [
       "$\\displaystyle T{\\left(t \\right)} = e^{\\alpha^{2} \\left(C_{1} - \\gamma^{2} t\\right)}$"
      ],
      "text/plain": [
       "         2 ⎛      2  ⎞\n",
       "        α ⋅⎝C₁ - γ ⋅t⎠\n",
       "T(t) = ℯ              "
      ]
     },
     "execution_count": 5,
     "metadata": {},
     "output_type": "execute_result"
    }
   ],
   "source": [
    "sp.dsolve(timeODE,T(t))"
   ]
  },
  {
   "cell_type": "markdown",
   "metadata": {},
   "source": [
    "If we want a different form of the above equation (for example one that writes *C1* as a constant being multiplied by other terms), we can use the following code and get the *1st_linear.* We save that new form into *timePiece.*"
   ]
  },
  {
   "cell_type": "code",
   "execution_count": 6,
   "metadata": {},
   "outputs": [
    {
     "data": {
      "text/latex": [
       "$\\displaystyle \\left[ T{\\left(t \\right)} = e^{\\alpha^{2} \\left(C_{1} - \\gamma^{2} t\\right)}, \\  T{\\left(t \\right)} = e^{\\alpha^{2} \\left(C_{1} - \\gamma^{2} t\\right)}, \\  T{\\left(t \\right)} = C_{1} e^{- \\alpha^{2} \\gamma^{2} t}, \\  T{\\left(t \\right)} = C_{1} - C_{1} \\alpha^{2} \\gamma^{2} t + \\frac{C_{1} \\alpha^{4} \\gamma^{4} t^{2}}{2} - \\frac{C_{1} \\alpha^{6} \\gamma^{6} t^{3}}{6} + \\frac{C_{1} \\alpha^{8} \\gamma^{8} t^{4}}{24} - \\frac{C_{1} \\alpha^{10} \\gamma^{10} t^{5}}{120} + O\\left(t^{6}\\right), \\  T{\\left(t \\right)} = C_{1} e^{- \\alpha^{2} \\gamma^{2} t}, \\  T{\\left(t \\right)} = C_{1} e^{- \\alpha^{2} \\gamma^{2} t}, \\  \\int\\limits^{T{\\left(t \\right)}} \\frac{1}{y \\alpha^{2}}\\, dy = C_{1} + \\int - \\gamma^{2}\\, dt, \\  \\left. \\int \\gamma^{2}\\, dt + \\int \\frac{1}{y \\alpha^{2}}\\, dy \\right|_{\\substack{ y=T{\\left(t \\right)} }} = C_{1}, \\  T{\\left(t \\right)} = \\left(C_{1} + \\int 0\\, dt\\right) e^{- \\int \\alpha^{2} \\gamma^{2}\\, dt}\\right]$"
      ],
      "text/plain": [
       "⎡                                                                             \n",
       "⎢                                                                             \n",
       "⎢         2 ⎛      2  ⎞           2 ⎛      2  ⎞               2  2            \n",
       "⎢        α ⋅⎝C₁ - γ ⋅t⎠          α ⋅⎝C₁ - γ ⋅t⎠             -α ⋅γ ⋅t          \n",
       "⎢T(t) = ℯ              , T(t) = ℯ              , T(t) = C₁⋅ℯ        , T(t) = C\n",
       "⎢                                                                             \n",
       "⎢                                                                             \n",
       "⎢                                                                             \n",
       "⎣                                                                             \n",
       "\n",
       "                                                                              \n",
       "                                                                              \n",
       "                     4  4  2       6  6  3       8  8  4       10  10  5      \n",
       "        2  2     C₁⋅α ⋅γ ⋅t    C₁⋅α ⋅γ ⋅t    C₁⋅α ⋅γ ⋅t    C₁⋅α  ⋅γ  ⋅t     ⎛ \n",
       "₁ - C₁⋅α ⋅γ ⋅t + ─────────── - ─────────── + ─────────── - ───────────── + O⎝t\n",
       "                      2             6             24            120           \n",
       "                                                                              \n",
       "                                                                              \n",
       "                                                                              \n",
       "\n",
       "                                                                              \n",
       "                                              T(t)                            \n",
       "                 2  2                 2  2     ⌠                  ⌠         ⎛⌠\n",
       "6⎞             -α ⋅γ ⋅t             -α ⋅γ ⋅t   ⎮    1             ⎮   2     ⎜⎮\n",
       " ⎠, T(t) = C₁⋅ℯ        , T(t) = C₁⋅ℯ        ,  ⎮   ──── dy = C₁ + ⎮ -γ  dt, ⎜⎮\n",
       "                                               ⎮      2           ⌡         ⎜⌡\n",
       "                                               ⎮   y⋅α                      ⎜ \n",
       "                                               ⌡                            ⎝ \n",
       "                                                                              \n",
       "\n",
       "                                                        ⌠         ⎤\n",
       "                                                        ⎮  2  2   ⎥\n",
       "         ⌠        ⎞│                                   -⎮ α ⋅γ  dt⎥\n",
       "  2      ⎮  1     ⎟│                    ⎛     ⌠     ⎞   ⌡         ⎥\n",
       " γ  dt + ⎮ ──── dy⎟│       = C₁, T(t) = ⎜C₁ + ⎮ 0 dt⎟⋅ℯ           ⎥\n",
       "         ⎮    2   ⎟│                    ⎝     ⌡     ⎠             ⎥\n",
       "         ⎮ y⋅α    ⎟│                                              ⎥\n",
       "         ⌡        ⎠│y=T(t)                                        ⎥\n",
       "                                                                  ⎦"
      ]
     },
     "execution_count": 6,
     "metadata": {},
     "output_type": "execute_result"
    }
   ],
   "source": [
    "list_of_hints = sp.classify_ode(timeODE)\n",
    "list_of_solutions = [sp.dsolve(timeODE,T(t), hint=hint) for hint in list_of_hints]\n",
    "list_of_solutions"
   ]
  },
  {
   "cell_type": "code",
   "execution_count": 7,
   "metadata": {},
   "outputs": [
    {
     "data": {
      "image/png": "[encoded data removed]",
      "text/latex": [
       "$\\displaystyle T{\\left(t \\right)} = C_{1} e^{- \\alpha^{2} \\gamma^{2} t}$"
      ],
      "text/plain": [
       "             2  2  \n",
       "           -α ⋅γ ⋅t\n",
       "T(t) = C₁⋅ℯ        "
      ]
     },
     "execution_count": 7,
     "metadata": {},
     "output_type": "execute_result"
    }
   ],
   "source": [
    "timePiece = sp.dsolve(timeODE,T(t), hint='1st_linear')\n",
    "timePiece"
   ]
  },
  {
   "cell_type": "markdown",
   "metadata": {},
   "source": [
    "We do the same thing with the *spaceODE* where we solve for the space function, *X(x)* using *dsolve.*"
   ]
  },
  {
   "cell_type": "code",
   "execution_count": 8,
   "metadata": {},
   "outputs": [
    {
     "data": {
      "image/png": "[encoded data removed]",
      "text/latex": [
       "$\\displaystyle X{\\left(x \\right)} = C_{1} \\sin{\\left(\\gamma x \\right)} + C_{2} \\cos{\\left(\\gamma x \\right)}$"
      ],
      "text/plain": [
       "X(x) = C₁⋅sin(γ⋅x) + C₂⋅cos(γ⋅x)"
      ]
     },
     "execution_count": 8,
     "metadata": {},
     "output_type": "execute_result"
    }
   ],
   "source": [
    "spacePiece = sp.dsolve(spaceODE,X(x))\n",
    "spacePiece"
   ]
  },
  {
   "cell_type": "markdown",
   "metadata": {},
   "source": [
    "We know that the general solution, which was originally our *c(x,t),* is equal to *X(x)T(x),* so we multiply the equations we got in the last two steps for *X(x)* and *T(t).* To eliminate a third constant coming from the *timePiece,* let's set that constant as equal to 1. We can do this as the product of the other two constants is also a constant. "
   ]
  },
  {
   "cell_type": "code",
   "execution_count": 9,
   "metadata": {},
   "outputs": [
    {
     "data": {
      "image/png": "[encoded data removed]",
      "text/latex": [
       "$\\displaystyle \\left(C_{1} \\sin{\\left(\\gamma x \\right)} + C_{2} \\cos{\\left(\\gamma x \\right)}\\right) e^{- \\alpha^{2} \\gamma^{2} t}$"
      ],
      "text/plain": [
       "                               2  2  \n",
       "                             -α ⋅γ ⋅t\n",
       "(C₁⋅sin(γ⋅x) + C₂⋅cos(γ⋅x))⋅ℯ        "
      ]
     },
     "execution_count": 9,
     "metadata": {},
     "output_type": "execute_result"
    }
   ],
   "source": [
    "generalSolution = (timePiece.rhs).subs(C1,1)*spacePiece.rhs\n",
    "generalSolution"
   ]
  },
  {
   "cell_type": "markdown",
   "metadata": {},
   "source": [
    "## Applying Boundary Conditions "
   ]
  },
  {
   "cell_type": "markdown",
   "metadata": {},
   "source": [
    "$$\n",
    "\\begin{array}{lll}\n",
    "\\mathrm{PDE} & u_t = u_{xx} & 0 \\le x \\le 1 \\\\\n",
    "\\mathrm{BCs} & u(0,t) = 0 & 0 \\le t \\le \\infty \\\\\n",
    " & u(1,t) = 0 & \\\\\n",
    "\\mathrm{IC}  & u(x,0) = 1 & 0 \\le x \\le 1\n",
    "\\end{array}\n",
    "$$"
   ]
  },
  {
   "cell_type": "markdown",
   "metadata": {},
   "source": [
    "Now that we have our general solution, let's apply boundary conditions so that we can find our constants and get the particular solution. If we use the first boundary condition and let *x=0,* the only way the general solution can still equal 0 is when *C2 = 0.* Next, if we apply the 2nd boundary condition, we get a solution but not exactly the one we are interested in. So, we apply the initial condition that gives *t=0*, and knowing that *C2 = 0.* "
   ]
  },
  {
   "cell_type": "code",
   "execution_count": 10,
   "metadata": {},
   "outputs": [
    {
     "data": {
      "image/png": "[encoded data removed]",
      "text/latex": [
       "$\\displaystyle C_{1} \\sin{\\left(\\pi n x \\right)}$"
      ],
      "text/plain": [
       "C₁⋅sin(π⋅n⋅x)"
      ]
     },
     "execution_count": 10,
     "metadata": {},
     "output_type": "execute_result"
    }
   ],
   "source": [
    "genSub = generalSolution.subs({t:0, C2:0, gamma:n*sp.pi})\n",
    "genSub"
   ]
  },
  {
   "cell_type": "markdown",
   "metadata": {},
   "source": [
    "We als know that when *t = 0,* the solution is equal to 1. The domain of the space component is also from 0 to 1. Below, we map what that looks like. Essentianlly, we can boundary conditions that are 0 when *x = 0* and 1. In between those boundarys, the solution is 1. Plotting from -1 to 1, we get the graph below. We plot from -1 to 1 because the \"average\" of the values will be 0, aligning with the boundary conditions, rather than 0.5. "
   ]
  },
  {
   "cell_type": "code",
   "execution_count": 34,
   "metadata": {},
   "outputs": [
    {
     "data": {
      "text/plain": [
       "<sympy.plotting.plot.Plot at 0x1eec5313f48>"
      ]
     },
     "execution_count": 34,
     "metadata": {},
     "output_type": "execute_result"
    },
    {
     "data": {
      "image/png": "[encoded data removed]",
      "text/plain": [
       "<Figure size 432x288 with 1 Axes>"
      ]
     },
     "metadata": {
      "needs_background": "light"
     },
     "output_type": "display_data"
    }
   ],
   "source": [
    "p = sp.Piecewise((0,x<-1),(-1,x<0),(1,x<1),(0,True))\n",
    "sp.plot(p)"
   ]
  },
  {
   "cell_type": "markdown",
   "metadata": {},
   "source": [
    "Here, we find the Fourier sine expansion of the plot we are trying to mimic above, *p.* We choose *sine* because that function allows our boundary conditions to be 0. We can see the first 4 terms of the fourier expansion below. We can compare this fourier series to what *genSub* gives above. We can treat 4/pi, 4/3pi, 4/5pi and so forth as the constant *C1* while *n* is the constant in front of pi and *x,* or 1,3,5 and so forth. "
   ]
  },
  {
   "cell_type": "code",
   "execution_count": 35,
   "metadata": {},
   "outputs": [
    {
     "data": {
      "image/png": "[encoded data removed]",
      "text/latex": [
       "$\\displaystyle \\frac{4 \\sin{\\left(\\pi x \\right)}}{\\pi} + \\frac{4 \\sin{\\left(3 \\pi x \\right)}}{3 \\pi} + \\frac{4 \\sin{\\left(5 \\pi x \\right)}}{5 \\pi} + \\frac{4 \\sin{\\left(7 \\pi x \\right)}}{7 \\pi}$"
      ],
      "text/plain": [
       "4⋅sin(π⋅x)   4⋅sin(3⋅π⋅x)   4⋅sin(5⋅π⋅x)   4⋅sin(7⋅π⋅x)\n",
       "────────── + ──────────── + ──────────── + ────────────\n",
       "    π            3⋅π            5⋅π            7⋅π     "
      ]
     },
     "execution_count": 35,
     "metadata": {},
     "output_type": "execute_result"
    }
   ],
   "source": [
    "fourierrep = sp.fourier_series(p,(-1,1)).truncate(4)\n",
    "fourierrep"
   ]
  },
  {
   "cell_type": "markdown",
   "metadata": {},
   "source": [
    "Now, let's plot what that fourier expansion looks like. "
   ]
  },
  {
   "cell_type": "code",
   "execution_count": 36,
   "metadata": {},
   "outputs": [
    {
     "data": {
      "text/plain": [
       "<sympy.plotting.plot.Plot at 0x1eebf9f79c8>"
      ]
     },
     "execution_count": 36,
     "metadata": {},
     "output_type": "execute_result"
    },
    {
     "data": {
      "image/png": "[encoded data removed]",
      "text/plain": [
       "<Figure size 432x288 with 1 Axes>"
      ]
     },
     "metadata": {
      "needs_background": "light"
     },
     "output_type": "display_data"
    }
   ],
   "source": [
    "sp.plot(fourierrep)"
   ]
  },
  {
   "cell_type": "markdown",
   "metadata": {},
   "source": [
    "This fourier expansion, based on the boundary conditions and the initial conditions, will be our solution to our diffusion equation. Below, we make a function, *solutionAtX* with parameters *x,t,alpha,* and *terms.* Within the function, we write a for loop that sums all the specific number of terms in the fourier expansion that is given, along with a given alpha (representing the diffusion coefficient), as well as x and t. \n",
    "\n",
    "After this, we have code for plotting the results of this function. "
   ]
  },
  {
   "cell_type": "code",
   "execution_count": 37,
   "metadata": {},
   "outputs": [],
   "source": [
    "%matplotlib inline\n",
    "import numpy as np\n",
    "import matplotlib.pyplot as plt\n",
    "from ipywidgets import interact\n",
    "\n",
    "def solutionAtX(x, t, alpha, terms):\n",
    "    # This is an already developed solution to the diffusion equation.\n",
    "    # If you can follow along in the lecture - your solution will look\n",
    "    # identical.\n",
    "    return sum([(4*np.sin(x*np.pi*(2*n-1))/(np.pi*(2*n-1)))*np.exp(-t*(alpha*n*np.pi)**2) for n in range(1,terms+1,1)])\n",
    "\n",
    "def make_plot(t=0.01, alpha=0.2, terms=20):\n",
    "    plt.figure(figsize=(7,5))\n",
    "    x = np.arange(0, 1, 0.001)\n",
    "    y = solutionAtX(x, t, alpha, terms)\n",
    "    y1 = np.ones_like(x) \n",
    "    plt.plot(x, y, x, y1, 'orange')\n",
    "    plt.fill_between(x, 0, y, alpha=0.2)\n",
    "    plt.ylim(0.0, 1.1)\n",
    "    plt.xlabel('Distance')\n",
    "    plt.ylabel('Concentration')\n",
    "    plt.show()"
   ]
  },
  {
   "cell_type": "code",
   "execution_count": 38,
   "metadata": {},
   "outputs": [
    {
     "data": {
      "application/vnd.jupyter.widget-view+json": {
       "model_id": "d024dadd59494c3082f6666a420c11a1",
       "version_major": 2,
       "version_minor": 0
      },
      "text/plain": [
       "interactive(children=(FloatSlider(value=0.01, description='t', max=2.0, min=0.01, step=0.01), FloatSlider(valu…"
      ]
     },
     "metadata": {},
     "output_type": "display_data"
    }
   ],
   "source": [
    "interact(make_plot, t=(0.01,2,0.01), alpha=(0.2,0.5,0.01), terms=(1,40,1));"
   ]
  },
  {
   "cell_type": "markdown",
   "metadata": {},
   "source": [
    "## Information This Graph Shows "
   ]
  },
  {
   "cell_type": "markdown",
   "metadata": {},
   "source": [
    "The shaded blue area shows the substance, whether that may be heat, or molecule, or even dogs. Changing the parameters on the graph shows a couple of key points. The graph above shows that as time increases, there is less substance in the given space between 0 and 1. In other words, substance is escaping the boundarys as time goes on. Additionally, it shows that as the diffusivity constant, alpha, increases, the total amount of substance decreases as well. This makes sense, as if the diffusion constant increases, it causes the rate of diffusion to be faster; as a result, more substance escapes the boundaries. Finally, that graph shows that as you increase the number of terms, the closer the Fourier Series approximation gets to the initial condition value of 1 in between the x values of 0 and 1. "
   ]
  },
  {
   "cell_type": "markdown",
   "metadata": {},
   "source": [
    "The **physical impossibility** in this problem is that temperature can never be discontinous. Temperature must be contious at the boundary. We could say that near the boundary, the slope of the line is infinitely steep, or the temperature rapidly changes to comply with this physical impossibility. "
   ]
  }
 ],
 "metadata": {
  "kernelspec": {
   "display_name": "Python 3",
   "language": "python",
   "name": "python3"
  },
  "language_info": {
   "codemirror_mode": {
    "name": "ipython",
    "version": 3
   },
   "file_extension": ".py",
   "mimetype": "text/x-python",
   "name": "python",
   "nbconvert_exporter": "python",
   "pygments_lexer": "ipython3",
   "version": "3.7.6"
  }
 },
 "nbformat": 4,
 "nbformat_minor": 4
}
