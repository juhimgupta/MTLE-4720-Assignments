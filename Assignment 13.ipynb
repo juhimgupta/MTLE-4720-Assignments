{
 "cells": [
  {
   "cell_type": "markdown",
   "metadata": {},
   "source": [
    "Steps \n",
    "* Arrange the equation so that the functions of time is on one side and the functions of x is on the other; equate them to -gamma^2\n",
    "* Take Fick's Law and multiply alpha^2\n",
    "* Solve that time part (ODE) equation for T(t)\n",
    "* Solve that space part (ODE) equation for X(x)\n",
    "* Multiplying those equations together (T(t) and X(x)) \n",
    "* Get C1 and the C2 values by plugging in boundary value equations into general solution"
   ]
  }
 ],
 "metadata": {
  "kernelspec": {
   "display_name": "Python 3",
   "language": "python",
   "name": "python3"
  },
  "language_info": {
   "codemirror_mode": {
    "name": "ipython",
    "version": 3
   },
   "file_extension": ".py",
   "mimetype": "text/x-python",
   "name": "python",
   "nbconvert_exporter": "python",
   "pygments_lexer": "ipython3",
   "version": "3.7.6"
  }
 },
 "nbformat": 4,
 "nbformat_minor": 4
}
