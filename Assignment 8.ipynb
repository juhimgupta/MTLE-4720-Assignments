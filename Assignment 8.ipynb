{
 "cells": [
  {
   "cell_type": "code",
   "execution_count": 4,
   "metadata": {},
   "outputs": [],
   "source": [
    "import sympy as sp"
   ]
  },
  {
   "cell_type": "code",
   "execution_count": 5,
   "metadata": {},
   "outputs": [],
   "source": [
    "Ga, Gb, Xb, R, T = sp.symbols('Ga Gb Xb R T')"
   ]
  },
  {
   "cell_type": "markdown",
   "metadata": {},
   "source": [
    "This gives us chemical potential equation (the derivative of the free energy function)"
   ]
  },
  {
   "cell_type": "code",
   "execution_count": 9,
   "metadata": {},
   "outputs": [
    {
     "data": {
      "text/latex": [
       "$\\displaystyle - Ga + Gb + R T \\left(\\log{\\left(Xb \\right)} - \\log{\\left(1 - Xb \\right)}\\right)$"
      ],
      "text/plain": [
       "-Ga + Gb + R*T*(log(Xb) - log(1 - Xb))"
      ]
     },
     "execution_count": 9,
     "metadata": {},
     "output_type": "execute_result"
    }
   ],
   "source": [
    "chempotential = sp.diff((1 - Xb)*Ga + Xb*Gb + R*T*(Xb*sp.log(Xb) + (1 - Xb)*(sp.log(1 - Xb))), Xb)\n",
    "chempotential"
   ]
  },
  {
   "cell_type": "markdown",
   "metadata": {},
   "source": [
    "Xb is the concentration of species with respect to space\n",
    "x is the indepedent variable for space"
   ]
  }
 ],
 "metadata": {
  "kernelspec": {
   "display_name": "Python 3",
   "language": "python",
   "name": "python3"
  },
  "language_info": {
   "codemirror_mode": {
    "name": "ipython",
    "version": 3
   },
   "file_extension": ".py",
   "mimetype": "text/x-python",
   "name": "python",
   "nbconvert_exporter": "python",
   "pygments_lexer": "ipython3",
   "version": "3.7.6"
  }
 },
 "nbformat": 4,
 "nbformat_minor": 4
}
