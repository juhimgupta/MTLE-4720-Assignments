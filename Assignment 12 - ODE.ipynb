{
 "cells": [
  {
   "cell_type": "markdown",
   "metadata": {},
   "source": [
    "# Maxwell Model - Varied Stress and Strain"
   ]
  },
  {
   "cell_type": "markdown",
   "metadata": {},
   "source": [
    "The purpose of this code is to visualize the Maxwell Model when a time varying stress is applied. The graph created models the strain values over time. This code is for anyone with a bit of knowledge on viscoelasticity, and looking to see the relative phase of stress and strain depening on frequency. "
   ]
  },
  {
   "cell_type": "markdown",
   "metadata": {},
   "source": [
    "The **Maxwell Model** consists of a linear spring and a dashpot. When an applied stress, *sigma0* (to signify stress at time = 0) is applied to the viscoelastic material sample, the spring immediately extends and the piston moves through the viscous fluid in the dashpot. The purpose of this model is to demonstrate that if a material is put under a constant strain, the stresses gradually relaxes. Additionally, it is meant to show that when a material is put under constant stress, the strain has two components. One component is the elastic component that corresponds to the spring and relaxes immediately after stress release. The second component is viscous component that grows with time as long as stress is applied. \n",
    "\n",
    "For our purposes, we will not be applying a constant value for stress but rather function for the amount of stress at each time. In other words, we will be seeing how a time varying stress affects the strain over a set period of time. "
   ]
  },
  {
   "cell_type": "markdown",
   "metadata": {},
   "source": [
    "## Getting Strain Equation as a Function of After Applying Stress as a Function of Time"
   ]
  },
  {
   "cell_type": "markdown",
   "metadata": {},
   "source": [
    "We start by importing the necessary packages to get the equation we wish to plot. This equation is for a strain function when the time varying stress function is applied to it and based on the original Maxwell model. "
   ]
  },
  {
   "cell_type": "code",
   "execution_count": 44,
   "metadata": {},
   "outputs": [
    {
     "name": "stdout",
     "output_type": "stream",
     "text": [
      "IPython console for SymPy 1.5.1 (Python 3.7.6-64-bit) (ground types: python)\n",
      "\n",
      "These commands were executed:\n",
      ">>> from __future__ import division\n",
      ">>> from sympy import *\n",
      ">>> x, y, z, t = symbols('x y z t')\n",
      ">>> k, m, n = symbols('k m n', integer=True)\n",
      ">>> f, g, h = symbols('f g h', cls=Function)\n",
      ">>> init_printing()\n",
      "\n",
      "Documentation can be found at https://docs.sympy.org/1.5.1/\n",
      "\n"
     ]
    }
   ],
   "source": [
    "import numpy as np\n",
    "import sympy as sp\n",
    "sp.init_session()"
   ]
  },
  {
   "cell_type": "markdown",
   "metadata": {},
   "source": [
    "Next, we create several variables that are used in the Maxwell Model and save them as integers, and specify that *epsilon* (or strain) and *sigma* (or stress) are functions of time. Additionally, we restrict *omega* as a positive value for ease of calculation. "
   ]
  },
  {
   "cell_type": "code",
   "execution_count": 36,
   "metadata": {},
   "outputs": [],
   "source": [
    "t, M, eta, epsilon0, sigma0, C1, C2 = sp.var('t, M, eta, epsilon0, sigma0, C1, C2', integer = True)\n",
    "omega = sp.var('omega', positive = True)\n",
    "epsilon, sigma = sp.var('epsilon, sigma', cls=Function)"
   ]
  },
  {
   "cell_type": "markdown",
   "metadata": {},
   "source": [
    "Next, we define the Maxwell Model as the following equation using *sp.Eq.*"
   ]
  },
  {
   "cell_type": "code",
   "execution_count": 24,
   "metadata": {},
   "outputs": [
    {
     "data": {
      "image/png": "[encoded data removed]",
      "text/latex": [
       "$\\displaystyle \\frac{d}{d t} \\epsilon{\\left(t \\right)} = \\frac{\\sigma{\\left(t \\right)}}{\\eta} + \\frac{\\frac{d}{d t} \\sigma{\\left(t \\right)}}{M}$"
      ],
      "text/plain": [
       "                  d       \n",
       "                  ──(σ(t))\n",
       "d          σ(t)   dt      \n",
       "──(ε(t)) = ──── + ────────\n",
       "dt          η        M    "
      ]
     },
     "execution_count": 24,
     "metadata": {},
     "output_type": "execute_result"
    }
   ],
   "source": [
    "maxwellModel = sp.Eq(epsilon(t).diff(t), sigma(t).diff(t)/M + sigma(t)/eta)\n",
    "maxwellModel"
   ]
  },
  {
   "cell_type": "markdown",
   "metadata": {},
   "source": [
    "After this, we can solve for *epsilon(t)* by using *dsolve.*"
   ]
  },
  {
   "cell_type": "code",
   "execution_count": 45,
   "metadata": {},
   "outputs": [
    {
     "data": {
      "image/png": "[encoded data removed]",
      "text/latex": [
       "$\\displaystyle \\epsilon{\\left(t \\right)} = C_{1} + \\frac{\\int \\left(M \\sigma{\\left(t \\right)} + \\eta \\frac{d}{d t} \\sigma{\\left(t \\right)}\\right)\\, dt}{M \\eta}$"
      ],
      "text/plain": [
       "            ⌠                         \n",
       "            ⎮ ⎛           d       ⎞   \n",
       "            ⎮ ⎜M⋅σ(t) + η⋅──(σ(t))⎟ dt\n",
       "            ⎮ ⎝           dt      ⎠   \n",
       "            ⌡                         \n",
       "ε(t) = C₁ + ──────────────────────────\n",
       "                       M⋅η            "
      ]
     },
     "execution_count": 45,
     "metadata": {},
     "output_type": "execute_result"
    }
   ],
   "source": [
    "straineq = dsolve(maxwellModel,epsilon(t))\n",
    "straineq"
   ]
  },
  {
   "cell_type": "markdown",
   "metadata": {},
   "source": [
    "The stress function we are using in this problem is: \n",
    "\n",
    "$\\sigma(t)$ = $\\sigma0$ * $\\sin$($\\omega*t)$\n",
    "\n",
    " We can substitute that function in for *sigma(t)* using *.subs()* and calculate the integral using *doit.* "
   ]
  },
  {
   "cell_type": "code",
   "execution_count": 46,
   "metadata": {},
   "outputs": [
    {
     "data": {
      "image/png": "[encoded data removed]",
      "text/latex": [
       "$\\displaystyle \\epsilon{\\left(t \\right)} = C_{1} + \\frac{- \\frac{M \\sigma_{0} \\cos{\\left(\\omega t \\right)}}{\\omega} + \\eta \\sigma_{0} \\sin{\\left(\\omega t \\right)}}{M \\eta}$"
      ],
      "text/plain": [
       "              M⋅σ₀⋅cos(ω⋅t)                \n",
       "            - ───────────── + η⋅σ₀⋅sin(ω⋅t)\n",
       "                    ω                      \n",
       "ε(t) = C₁ + ───────────────────────────────\n",
       "                          M⋅η              "
      ]
     },
     "execution_count": 46,
     "metadata": {},
     "output_type": "execute_result"
    }
   ],
   "source": [
    "stressfunc = sigma0*sp.sin(omega*t)\n",
    "gensoln = straineq.subs(sigma(t),stressfunc).doit()\n",
    "gensoln"
   ]
  },
  {
   "cell_type": "markdown",
   "metadata": {},
   "source": [
    "We see now that we have a constant, *C1.* To solve for that constant, let's plug in *t = 0* using *.subs()* and using *.rhs* to only give us the quantity on the right hand side of the equal sign. Although it is not written, it is by default equal to 0. Therefore, we can say that: \n",
    "\n",
    "C1 = $\\sigma0$/$\\eta$*$\\omega$"
   ]
  },
  {
   "cell_type": "code",
   "execution_count": 48,
   "metadata": {},
   "outputs": [
    {
     "data": {
      "image/png": "[encoded data removed]",
      "text/latex": [
       "$\\displaystyle C_{1} - \\frac{\\sigma_{0}}{\\eta \\omega}$"
      ],
      "text/plain": [
       "      σ₀\n",
       "C₁ - ───\n",
       "     η⋅ω"
      ]
     },
     "execution_count": 48,
     "metadata": {},
     "output_type": "execute_result"
    }
   ],
   "source": [
    "gensoln.rhs.subs(t,0)"
   ]
  },
  {
   "cell_type": "markdown",
   "metadata": {},
   "source": [
    "Now that we know what C1 is equal to, we can plug that into the equation using *.subs().*"
   ]
  },
  {
   "cell_type": "code",
   "execution_count": 28,
   "metadata": {},
   "outputs": [
    {
     "data": {
      "image/png": "[encoded data removed]",
      "text/latex": [
       "$\\displaystyle \\epsilon{\\left(t \\right)} = \\frac{\\sigma_{0}}{\\eta \\omega} + \\frac{- \\frac{M \\sigma_{0} \\cos{\\left(\\omega t \\right)}}{\\omega} + \\eta \\sigma_{0} \\sin{\\left(\\omega t \\right)}}{M \\eta}$"
      ],
      "text/plain": [
       "               M⋅σ₀⋅cos(ω⋅t)                \n",
       "             - ───────────── + η⋅σ₀⋅sin(ω⋅t)\n",
       "        σ₀           ω                      \n",
       "ε(t) = ─── + ───────────────────────────────\n",
       "       η⋅ω                 M⋅η              "
      ]
     },
     "execution_count": 28,
     "metadata": {},
     "output_type": "execute_result"
    }
   ],
   "source": [
    "gensoln = gensoln.subs(C1, sigma0/(eta*omega))\n",
    "gensoln"
   ]
  },
  {
   "cell_type": "markdown",
   "metadata": {},
   "source": [
    "## Plotting Strain Under Specific Conditions"
   ]
  },
  {
   "cell_type": "markdown",
   "metadata": {},
   "source": [
    "Now, we can start seeing that the graph of strain over time! Let's start by using **100 as the initial stress** applied. We can subsitute it into the equation using *.subs().*"
   ]
  },
  {
   "cell_type": "code",
   "execution_count": 29,
   "metadata": {},
   "outputs": [
    {
     "data": {
      "image/png": "[encoded data removed]",
      "text/latex": [
       "$\\displaystyle \\epsilon{\\left(t \\right)} = \\frac{100}{\\eta \\omega} + \\frac{- \\frac{100 M \\cos{\\left(\\omega t \\right)}}{\\omega} + 100 \\eta \\sin{\\left(\\omega t \\right)}}{M \\eta}$"
      ],
      "text/plain": [
       "               100⋅M⋅cos(ω⋅t)                 \n",
       "             - ────────────── + 100⋅η⋅sin(ω⋅t)\n",
       "       100           ω                        \n",
       "ε(t) = ─── + ─────────────────────────────────\n",
       "       η⋅ω                  M⋅η               "
      ]
     },
     "execution_count": 29,
     "metadata": {},
     "output_type": "execute_result"
    }
   ],
   "source": [
    "gensoln = gensoln.subs(sigma0,100)\n",
    "gensoln"
   ]
  },
  {
   "cell_type": "markdown",
   "metadata": {},
   "source": [
    "Next, we can get the right hand side of the equal sign to isolate our equation for strain to plot. "
   ]
  },
  {
   "cell_type": "code",
   "execution_count": 30,
   "metadata": {},
   "outputs": [
    {
     "data": {
      "image/png": "[encoded data removed]",
      "text/latex": [
       "$\\displaystyle \\frac{100}{\\eta \\omega} + \\frac{- \\frac{100 M \\cos{\\left(\\omega t \\right)}}{\\omega} + 100 \\eta \\sin{\\left(\\omega t \\right)}}{M \\eta}$"
      ],
      "text/plain": [
       "        100⋅M⋅cos(ω⋅t)                 \n",
       "      - ────────────── + 100⋅η⋅sin(ω⋅t)\n",
       "100           ω                        \n",
       "─── + ─────────────────────────────────\n",
       "η⋅ω                  M⋅η               "
      ]
     },
     "execution_count": 30,
     "metadata": {},
     "output_type": "execute_result"
    }
   ],
   "source": [
    "solutionToPlot = gensoln.rhs\n",
    "solutionToPlot"
   ]
  },
  {
   "cell_type": "markdown",
   "metadata": {},
   "source": [
    "Following this, we import several packages to construct an interactive plot, were one can change the M, eta, and omega values! We will define a function, *pltsoln,* with those parameters. Within the function, we set *t* as a symbol, *x* as the equation that we want to plot based on our calculation above, and put those variables into the *lambdify* function. This allows for the conversion of a sympy function to a lambda function to do numerical calculations. \n",
    "\n",
    "We then set *x_vals* as our time values that we want to graph over. We are graphing from 0 to 2 with 50 total numbers inbetween. Next, *y_vals* gives our function values by plugging in the *x_vals* time components for *t* in the lambdigy function (which is saved to the variabe *lam_x.* Then, we use *mpl.plot* to plot *y_vals* against *x_vals* or the strain vs time. \n",
    "\n",
    "Finally, we call the function *pltsoln,* as a parameter of *interact* to allow for rapid, easy changes in the *M, eta* and *omega* values and instant plotting! We can see as we adjust those values, that a new plot is created on top of the original to compare how the strain changes! "
   ]
  },
  {
   "cell_type": "code",
   "execution_count": 49,
   "metadata": {},
   "outputs": [],
   "source": [
    "from sympy import symbols\n",
    "from numpy import linspace\n",
    "from sympy import lambdify\n",
    "import matplotlib.pyplot as mpl\n",
    "\n",
    "from ipywidgets import *\n",
    "\n",
    "def pltsoln(M,eta,omega):\n",
    "    t = symbols('t')\n",
    "    x = (100/(eta*omega))+ (-(100*M*sp.cos(omega*t)) + 100*eta*sp.sin(omega*t))/(eta*M)\n",
    "    lam_x = lambdify(t, x, modules=['numpy'])\n",
    "\n",
    "    x_vals = linspace(0, 2, 50)\n",
    "    y_vals = lam_x(x_vals)\n",
    "    mpl.plot(x_vals, y_vals)"
   ]
  },
  {
   "cell_type": "code",
   "execution_count": 50,
   "metadata": {},
   "outputs": [
    {
     "data": {
      "application/vnd.jupyter.widget-view+json": {
       "model_id": "384ff86591fc4c6ebbb651b19704029d",
       "version_major": 2,
       "version_minor": 0
      },
      "text/plain": [
       "interactive(children=(IntSlider(value=50, description='M', min=1), IntSlider(value=50, description='eta', min=…"
      ]
     },
     "metadata": {},
     "output_type": "display_data"
    },
    {
     "data": {
      "text/plain": [
       "<function __main__.pltsoln(M, eta, omega)>"
      ]
     },
     "execution_count": 50,
     "metadata": {},
     "output_type": "execute_result"
    }
   ],
   "source": [
    "interact(pltsoln, M=(1,100,1),eta=(1,100,1),omega=(1,100,1))"
   ]
  },
  {
   "cell_type": "markdown",
   "metadata": {},
   "source": [
    "## Resources\n",
    "* https://www.sciencedirect.com/topics/engineering/maxwell-model\n",
    "* https://stackoverflow.com/questions/35390187/using-sympy-equations-for-plotting\n",
    "* https://en.wikipedia.org/wiki/Viscoelasticity"
   ]
  }
 ],
 "metadata": {
  "kernelspec": {
   "display_name": "Python 3",
   "language": "python",
   "name": "python3"
  },
  "language_info": {
   "codemirror_mode": {
    "name": "ipython",
    "version": 3
   },
   "file_extension": ".py",
   "mimetype": "text/x-python",
   "name": "python",
   "nbconvert_exporter": "python",
   "pygments_lexer": "ipython3",
   "version": "3.7.6"
  }
 },
 "nbformat": 4,
 "nbformat_minor": 4
}
