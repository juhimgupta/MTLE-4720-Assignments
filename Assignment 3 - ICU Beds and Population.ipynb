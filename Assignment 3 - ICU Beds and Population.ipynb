{
 "cells": [
  {
   "cell_type": "markdown",
   "metadata": {},
   "source": [
    "# Using Scipy Curve Fitting to Compare ICU Beds and US Population By County"
   ]
  },
  {
   "cell_type": "markdown",
   "metadata": {},
   "source": [
    "## Getting the Data "
   ]
  },
  {
   "cell_type": "markdown",
   "metadata": {},
   "source": [
    "__Step 1:__ First, we can import the various libraries and packages necessary extracting the data and analyzing it. "
   ]
  },
  {
   "cell_type": "code",
   "execution_count": 14,
   "metadata": {},
   "outputs": [],
   "source": [
    "import scipy\n",
    "from scipy.optimize import curve_fit\n",
    "import pandas as pd\n",
    "import numpy as np\n",
    "import matplotlib.pyplot as plt"
   ]
  },
  {
   "cell_type": "markdown",
   "metadata": {},
   "source": [
    "__Step 2:__ The data was collected from the *Kaggle* Data Science website. We can download this data and save it on our computer. To obtain the data, we can use *.read_csv* and input the path of where we saved the data on our machine. An *r* was added before the path due to an error occuring because of the use of a normal string as a path. "
   ]
  },
  {
   "cell_type": "code",
   "execution_count": 15,
   "metadata": {
    "scrolled": false
   },
   "outputs": [],
   "source": [
    "icudata = pd.read_csv(r\"C:\\Users\\guptaj\\Documents\\ICUdata.csv\")"
   ]
  },
  {
   "cell_type": "markdown",
   "metadata": {},
   "source": [
    "We can also view the data by using the *print()* function! This will get us the column names and the general format of the data. "
   ]
  },
  {
   "cell_type": "code",
   "execution_count": 16,
   "metadata": {},
   "outputs": [
    {
     "name": "stdout",
     "output_type": "stream",
     "text": [
      "        State      County  ICU Beds  Total Population  Population Aged 60+  \\\n",
      "0     Alabama     Autauga         6             55036                10523   \n",
      "1     Alabama     Baldwin        51            203360                53519   \n",
      "2     Alabama     Barbour         5             26201                 6150   \n",
      "3     Alabama        Bibb         0             22580                 4773   \n",
      "4     Alabama      Blount         6             57667                13600   \n",
      "...       ...         ...       ...               ...                  ...   \n",
      "3137  Wyoming  Sweetwater        10             44527                 7015   \n",
      "3138  Wyoming       Teton         6             22923                 4298   \n",
      "3139  Wyoming       Uinta         6             20758                 3554   \n",
      "3140  Wyoming    Washakie         0              8253                 2206   \n",
      "3141  Wyoming      Weston         0              7117                 2073   \n",
      "\n",
      "      Percent of Population Aged 60+  Residents Aged 60+ Per Each ICU Bed  \n",
      "0                               19.1                               1754.0  \n",
      "1                               26.3                               1049.0  \n",
      "2                               23.5                               1230.0  \n",
      "3                               21.1                                  NaN  \n",
      "4                               23.6                               2267.0  \n",
      "...                              ...                                  ...  \n",
      "3137                            15.8                                702.0  \n",
      "3138                            18.7                                716.0  \n",
      "3139                            17.1                                592.0  \n",
      "3140                            26.7                                  NaN  \n",
      "3141                            29.1                                  NaN  \n",
      "\n",
      "[3142 rows x 7 columns]\n"
     ]
    }
   ],
   "source": [
    "print(icudata)"
   ]
  },
  {
   "cell_type": "markdown",
   "metadata": {},
   "source": [
    "__Step 3:__ Now, we can work on getting the data we need. In order to compare ICU Beds and Population, we can compare the columns *ICU Beds* and *Total Population* and see if as the population in a county increases, the number of ICU beds in hospitals in that county increase. We can save those column's data into the variables *x* and *y* to work with it easier. "
   ]
  },
  {
   "cell_type": "code",
   "execution_count": 17,
   "metadata": {},
   "outputs": [],
   "source": [
    "y = icudata['ICU Beds']\n",
    "x = icudata['Total Population']"
   ]
  },
  {
   "cell_type": "markdown",
   "metadata": {},
   "source": [
    "## Generating a Best Fit Line "
   ]
  },
  {
   "cell_type": "markdown",
   "metadata": {},
   "source": [
    "__Step 4:__ Next, in order to develop a best fit function to describe the relationship between the number of ICU beds and population based on data we can create a function. In this case, a linear graph will best fit the data. So, we can make a function *model* that has parameters m, x, and b. "
   ]
  },
  {
   "cell_type": "code",
   "execution_count": 18,
   "metadata": {},
   "outputs": [],
   "source": [
    "def model(m,x,b):\n",
    "    return m*x + b"
   ]
  },
  {
   "cell_type": "markdown",
   "metadata": {},
   "source": [
    "__Step 5:__ We can now use *popt* and curve fit to find the parameter values in the function *model.* In this data, the *m* and the *b* values are the parameters we are trying to find. *x* is not a parameter but rather the data the parameters mathematically manipulate to get the best fit line. This best fit line, ideally, matches quite well with the actual data collected for the number of ICU Beds that is stored in the variable *y.* "
   ]
  },
  {
   "cell_type": "code",
   "execution_count": 19,
   "metadata": {},
   "outputs": [],
   "source": [
    "popt, pcov = curve_fit(model, icudata['Total Population'], icudata['ICU Beds'])"
   ]
  },
  {
   "cell_type": "markdown",
   "metadata": {},
   "source": [
    "If we print *popt,* we will get the parameter values in an array that the curve fit will use for the function *model* to construct a best-fit line. "
   ]
  },
  {
   "cell_type": "code",
   "execution_count": 20,
   "metadata": {},
   "outputs": [
    {
     "name": "stdout",
     "output_type": "stream",
     "text": [
      "[ 0.00023479 -0.18548888]\n"
     ]
    }
   ],
   "source": [
    "print(popt)"
   ]
  },
  {
   "cell_type": "markdown",
   "metadata": {},
   "source": [
    "## Plotting "
   ]
  },
  {
   "cell_type": "markdown",
   "metadata": {},
   "source": [
    "__Step 6:__ Now we can plot our collected data from the dataframe *icudata*, which is shown in purple. We want to create a scatter plot of the collected data so we can use *plt.scatter.* In order to construct out bestfit line, we need to create a numeric sequence of the number of point we want to apply the best fit line equation to using *np.linspace.* Since the highest population we have is 1 x 10^7 , we should create that sequence to go up to 1 x 10^7 and starting from 0. Next, we can use *plt.plot* to plot the x-values (which is the numeric sequence stored in *bestfit*). For the y-component of the *plt.plot,* we use to the model function to compute the y-values based on the parameters in *popt.* \n",
    "\n",
    "__Step 7:__ After this, we can use the *plt.title, plt.xlabel,* and *plt.ylabel* to label our graph! "
   ]
  },
  {
   "cell_type": "code",
   "execution_count": 23,
   "metadata": {},
   "outputs": [
    {
     "data": {
      "text/plain": [
       "Text(0, 0.5, 'Number of ICU Beds')"
      ]
     },
     "execution_count": 23,
     "metadata": {},
     "output_type": "execute_result"
    },
    {
     "data": {
      "image/png": "[encoded data removed]",
      "text/plain": [
       "<Figure size 432x288 with 1 Axes>"
      ]
     },
     "metadata": {
      "needs_background": "light"
     },
     "output_type": "display_data"
    }
   ],
   "source": [
    "plt.scatter(x,y,c='purple')\n",
    "bestfit = np.linspace(0., 10000000., 100)  \n",
    "plt.plot(bestfit, model(bestfit, popt[0], popt[1]), 'g-', linestyle = 'dashed')\n",
    "\n",
    "plt.title('Number of ICU Beds vs Population in US State Counties')\n",
    "plt.xlabel('Population in County')\n",
    "plt.ylabel('Number of ICU Beds')"
   ]
  }
 ],
 "metadata": {
  "kernelspec": {
   "display_name": "Python 3",
   "language": "python",
   "name": "python3"
  },
  "language_info": {
   "codemirror_mode": {
    "name": "ipython",
    "version": 3
   },
   "file_extension": ".py",
   "mimetype": "text/x-python",
   "name": "python",
   "nbconvert_exporter": "python",
   "pygments_lexer": "ipython3",
   "version": "3.7.6"
  }
 },
 "nbformat": 4,
 "nbformat_minor": 4
}
